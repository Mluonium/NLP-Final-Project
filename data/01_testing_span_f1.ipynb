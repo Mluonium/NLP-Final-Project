{
 "cells": [
  {
   "cell_type": "markdown",
   "metadata": {},
   "source": [
    "# Running Span F1\n",
    "\n",
    "Please put in the name of the golden labels file and the predictions file"
   ]
  },
  {
   "cell_type": "code",
   "execution_count": 10,
   "metadata": {},
   "outputs": [],
   "source": [
    "# golden = \"sv_pud-ud-test.iob2\"\n",
    "# preds = \"slovak_on_swedish_predictions\"\n",
    "\n",
    "\n",
    "# span = \"span_f1_testing.py\"\n"
   ]
  },
  {
   "cell_type": "code",
   "execution_count": null,
   "metadata": {},
   "outputs": [],
   "source": [
    "# %run $span $golden $preds"
   ]
  },
  {
   "cell_type": "code",
   "execution_count": 19,
   "metadata": {},
   "outputs": [],
   "source": [
    "import os\n",
    "\n",
    "golden_files = [\"zh_pud-ud-test.iob2\",\n",
    "                   \"da_ddt-ud-test.iob2\",\n",
    "                   \"en_ewt-ud-test.iob2\",\n",
    "                   \"de_pud-ud-test.iob2\",\n",
    "                   \"pt_pud-ud-test.iob2\",\n",
    "                   \"ru_pud-ud-test.iob2\",\n",
    "                   \"sk_snk-ud-test.iob2\",\n",
    "                   \"sv_pud-ud-test.iob2\"\n",
    "                ]\n",
    "\n",
    "\n",
    "\n",
    "predictions = ['slovak_on_zh_predictions', \n",
    "               'slovak_on_da_predictions', \n",
    "               'slovak_on_en_predictions', \n",
    "               'slovak_on_de_predictions', \n",
    "               'slovak_on_pt_predictions', \n",
    "               'slovak_on_ru_predictions', \n",
    "               'slovak_on_sk_predictions', \n",
    "               'slovak_on_sv_predictions'\n",
    "            ]\n",
    "\n",
    "span = \"span_f1_testing.py\"\n"
   ]
  },
  {
   "cell_type": "code",
   "execution_count": 20,
   "metadata": {},
   "outputs": [
    {
     "name": "stdout",
     "output_type": "stream",
     "text": [
      "Result for slovak_on_zh_predictions:\n",
      "Output:\n",
      "0.479463537300922\n",
      "\n",
      "Result for slovak_on_da_predictions:\n",
      "Output:\n",
      "0.6119235095613048\n",
      "\n",
      "Result for slovak_on_en_predictions:\n",
      "Output:\n",
      "0.4757418747056053\n",
      "\n",
      "Result for slovak_on_de_predictions:\n",
      "Output:\n",
      "0.5913928736695974\n",
      "\n",
      "Result for slovak_on_pt_predictions:\n",
      "Output:\n",
      "0.5921689397272327\n",
      "\n",
      "Result for slovak_on_ru_predictions:\n",
      "Output:\n",
      "0.5623031938821412\n",
      "\n",
      "Result for slovak_on_sk_predictions:\n",
      "Output:\n",
      "0.7197010144153764\n",
      "\n",
      "Result for slovak_on_sv_predictions:\n",
      "Output:\n",
      "0.65625\n",
      "\n"
     ]
    }
   ],
   "source": [
    "import subprocess\n",
    "\n",
    "# Iterate over each test data file and predictions file pair\n",
    "for golden, preds in zip(golden_files, predictions):\n",
    "    # Run the span script with the corresponding arguments\n",
    "    command = f'python {span} {golden} {preds}'\n",
    "    result = subprocess.run(command, shell=True, capture_output=True, text=True)\n",
    "    \n",
    "    # Print the result\n",
    "    print(f\"Result for {preds}:\")\n",
    "    print(\"Output:\")\n",
    "    print(result.stdout)"
   ]
  },
  {
   "cell_type": "code",
   "execution_count": null,
   "metadata": {},
   "outputs": [],
   "source": []
  }
 ],
 "metadata": {
  "kernelspec": {
   "display_name": "Python 3",
   "language": "python",
   "name": "python3"
  },
  "language_info": {
   "codemirror_mode": {
    "name": "ipython",
    "version": 3
   },
   "file_extension": ".py",
   "mimetype": "text/x-python",
   "name": "python",
   "nbconvert_exporter": "python",
   "pygments_lexer": "ipython3",
   "version": "3.11.3"
  }
 },
 "nbformat": 4,
 "nbformat_minor": 2
}
