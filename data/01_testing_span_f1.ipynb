{
 "cells": [
  {
   "cell_type": "markdown",
   "metadata": {},
   "source": [
    "# Running Span F1\n",
    "\n",
    "Please put in the name of the golden labels file and the predictions file"
   ]
  },
  {
   "cell_type": "code",
   "execution_count": 1,
   "metadata": {},
   "outputs": [],
   "source": [
    "import os\n",
    "\n",
    "# The only thing you have to change is to input the language of the training model you're working with \n",
    "model_language = \"english\"\n",
    "\n",
    "\n",
    "\n",
    "golden_files = [\"zh_pud-ud-test.iob2\",\n",
    "                   \"da_ddt-ud-test.iob2\",\n",
    "                   \"en_ewt-ud-test.iob2\",\n",
    "                   \"de_pud-ud-test.iob2\",\n",
    "                   \"pt_pud-ud-test.iob2\",\n",
    "                   \"ru_pud-ud-test.iob2\",\n",
    "                   \"sk_snk-ud-test.iob2\",\n",
    "                   \"sv_pud-ud-test.iob2\"\n",
    "                ]\n",
    "\n",
    "predictions = [f\"{model_language}_on_zh_predictions\",\n",
    "               f\"{model_language}_on_da_predictions\",\n",
    "               f\"{model_language}_on_en_predictions\",\n",
    "               f\"{model_language}_on_de_predictions\",\n",
    "               f\"{model_language}_on_pt_predictions\",\n",
    "               f\"{model_language}_on_ru_predictions\",\n",
    "               f\"{model_language}_on_sk_predictions\",\n",
    "               f\"{model_language}_on_sv_predictions\"\n",
    "               ]\n",
    "\n",
    "span = \"span_f1_testing.py\"\n"
   ]
  },
  {
   "cell_type": "code",
   "execution_count": 2,
   "metadata": {},
   "outputs": [
    {
     "name": "stdout",
     "output_type": "stream",
     "text": [
      "Result for english_on_zh_predictions:\n",
      "Output:\n",
      "0.6783899960922235\n",
      "\n",
      "Result for english_on_da_predictions:\n",
      "Output:\n",
      "0.7519294377067256\n",
      "\n",
      "Result for english_on_en_predictions:\n",
      "Output:\n",
      "0.7890514393581879\n",
      "\n",
      "Result for english_on_de_predictions:\n",
      "Output:\n",
      "0.7845509539320614\n",
      "\n",
      "Result for english_on_pt_predictions:\n",
      "Output:\n",
      "0.8037718904355635\n",
      "\n",
      "Result for english_on_ru_predictions:\n",
      "Output:\n",
      "0.65564738292011\n",
      "\n",
      "Result for english_on_sk_predictions:\n",
      "Output:\n",
      "0.6596356663470758\n",
      "\n",
      "Result for english_on_sv_predictions:\n",
      "Output:\n",
      "0.8308858360966367\n",
      "\n"
     ]
    }
   ],
   "source": [
    "import subprocess\n",
    "\n",
    "# Iterate over each test data file and predictions file pair\n",
    "for golden, preds in zip(golden_files, predictions):\n",
    "    # Run the span script with the corresponding arguments\n",
    "    command = f'python {span} {golden} {preds}'\n",
    "    result = subprocess.run(command, shell=True, capture_output=True, text=True)\n",
    "    \n",
    "    # Print the result\n",
    "    print(f\"Result for {preds}:\")\n",
    "    print(\"Output:\")\n",
    "    print(result.stdout)"
   ]
  },
  {
   "cell_type": "code",
   "execution_count": null,
   "metadata": {},
   "outputs": [],
   "source": []
  }
 ],
 "metadata": {
  "kernelspec": {
   "display_name": "Python 3",
   "language": "python",
   "name": "python3"
  },
  "language_info": {
   "codemirror_mode": {
    "name": "ipython",
    "version": 3
   },
   "file_extension": ".py",
   "mimetype": "text/x-python",
   "name": "python",
   "nbconvert_exporter": "python",
   "pygments_lexer": "ipython3",
   "version": "3.11.3"
  }
 },
 "nbformat": 4,
 "nbformat_minor": 2
}
