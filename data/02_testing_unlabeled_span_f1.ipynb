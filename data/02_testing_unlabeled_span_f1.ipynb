{
 "cells": [
  {
   "cell_type": "markdown",
   "metadata": {},
   "source": [
    "# Running Span F1\n",
    "\n",
    "Please put in the name of the golden labels file and the predictions file"
   ]
  },
  {
   "cell_type": "code",
   "execution_count": 1,
   "metadata": {},
   "outputs": [],
   "source": [
    "import os\n",
    "\n",
    "# The only thing you have to change is to input the language of the training model you're working with \n",
    "model_language = \"NEW_croatian\"\n",
    "\n",
    "\n",
    "\n",
    "golden_files = [\"zh_pud-ud-test.iob2\",\n",
    "                   \"da_ddt-ud-test.iob2\",\n",
    "                   \"en_ewt-ud-test.iob2\",\n",
    "                   \"de_pud-ud-test.iob2\",\n",
    "                   \"pt_pud-ud-test.iob2\",\n",
    "                   \"ru_pud-ud-test.iob2\",\n",
    "                   \"sk_snk-ud-test.iob2\",\n",
    "                   \"sv_pud-ud-test.iob2\",\n",
    "                   \"sr_test.iob2\",\n",
    "                   \"hr_test.iob2\"\n",
    "\n",
    "                ]\n",
    "\n",
    "predictions = [f\"{model_language}_on_zh_predictions\",\n",
    "               f\"{model_language}_on_da_predictions\",\n",
    "               f\"{model_language}_on_en_predictions\",\n",
    "               f\"{model_language}_on_de_predictions\",\n",
    "               f\"{model_language}_on_pt_predictions\",\n",
    "               f\"{model_language}_on_ru_predictions\",\n",
    "               f\"{model_language}_on_sk_predictions\",\n",
    "               f\"{model_language}_on_sv_predictions\",\n",
    "               f\"{model_language}_on_sr_predictions\",\n",
    "               f\"{model_language}_on_hr_predictions\"\n",
    "               ]\n",
    "\n",
    "span = \"unlabel_span_f1.py\"\n"
   ]
  },
  {
   "cell_type": "code",
   "execution_count": 2,
   "metadata": {},
   "outputs": [
    {
     "name": "stdout",
     "output_type": "stream",
     "text": [
      "Result for NEW_croatian_on_zh_predictions:\n",
      "Output:\n",
      "0.6441741859552766\n",
      "\n",
      "Result for NEW_croatian_on_da_predictions:\n",
      "Output:\n",
      "0.8612975391498882\n",
      "\n",
      "Result for NEW_croatian_on_en_predictions:\n",
      "Output:\n",
      "0.6758682101513803\n",
      "\n",
      "Result for NEW_croatian_on_de_predictions:\n",
      "Output:\n",
      "0.7825704225352113\n",
      "\n",
      "Result for NEW_croatian_on_pt_predictions:\n",
      "Output:\n",
      "0.864120781527531\n",
      "\n",
      "Result for NEW_croatian_on_ru_predictions:\n",
      "Output:\n",
      "0.8562211981566821\n",
      "\n",
      "Result for NEW_croatian_on_sk_predictions:\n",
      "Output:\n",
      "0.7934668071654372\n",
      "\n",
      "Result for NEW_croatian_on_sv_predictions:\n",
      "Output:\n",
      "0.891127098321343\n",
      "\n",
      "Result for NEW_croatian_on_sr_predictions:\n",
      "Output:\n",
      "0.9421487603305785\n",
      "\n",
      "Result for NEW_croatian_on_hr_predictions:\n",
      "Output:\n",
      "0.9225376796354714\n",
      "\n"
     ]
    }
   ],
   "source": [
    "import subprocess\n",
    "\n",
    "# Iterate over each test data file and predictions file pair\n",
    "for golden, preds in zip(golden_files, predictions):\n",
    "    # Run the span script with the corresponding arguments\n",
    "    command = f'python {span} {golden} {preds}'\n",
    "    result = subprocess.run(command, shell=True, capture_output=True, text=True)\n",
    "    \n",
    "    # Print the result\n",
    "    print(f\"Result for {preds}:\")\n",
    "    print(\"Output:\")\n",
    "    print(result.stdout)"
   ]
  },
  {
   "cell_type": "code",
   "execution_count": null,
   "metadata": {},
   "outputs": [],
   "source": []
  }
 ],
 "metadata": {
  "kernelspec": {
   "display_name": "Python 3",
   "language": "python",
   "name": "python3"
  },
  "language_info": {
   "codemirror_mode": {
    "name": "ipython",
    "version": 3
   },
   "file_extension": ".py",
   "mimetype": "text/x-python",
   "name": "python",
   "nbconvert_exporter": "python",
   "pygments_lexer": "ipython3",
   "version": "3.12.2"
  }
 },
 "nbformat": 4,
 "nbformat_minor": 2
}
