{
 "cells": [
  {
   "cell_type": "markdown",
   "metadata": {},
   "source": [
    "## Language similarity "
   ]
  },
  {
   "cell_type": "markdown",
   "metadata": {},
   "source": [
    "### Lang2vec"
   ]
  },
  {
   "cell_type": "code",
   "execution_count": 1,
   "metadata": {},
   "outputs": [
    {
     "name": "stdout",
     "output_type": "stream",
     "text": [
      "Note: you may need to restart the kernel to use updated packages.Requirement already satisfied: lang2vec in c:\\users\\obe\\appdata\\local\\programs\\python\\python311\\lib\\site-packages (1.1.2)\n",
      "Requirement already satisfied: numpy in c:\\users\\obe\\appdata\\local\\programs\\python\\python311\\lib\\site-packages (from lang2vec) (1.26.3)\n",
      "Requirement already satisfied: setuptools in c:\\users\\obe\\appdata\\local\\programs\\python\\python311\\lib\\site-packages (from lang2vec) (65.5.0)\n",
      "\n"
     ]
    },
    {
     "name": "stderr",
     "output_type": "stream",
     "text": [
      "\n",
      "[notice] A new release of pip is available: 23.3.2 -> 24.0\n",
      "[notice] To update, run: python.exe -m pip install --upgrade pip\n"
     ]
    }
   ],
   "source": [
    "%pip install lang2vec"
   ]
  },
  {
   "cell_type": "code",
   "execution_count": 2,
   "metadata": {},
   "outputs": [],
   "source": [
    "import lang2vec.lang2vec as l2v\n",
    "from scipy.spatial import distance"
   ]
  },
  {
   "cell_type": "markdown",
   "metadata": {},
   "source": [
    "Lang2vec uses ISO 639-3 codes to represent the langugaes. \n",
    "Here are the relevant codes for our langugaes gotten from https://en.wikipedia.org/wiki/List_of_ISO_639_language_codes  \n",
    "- English: eng\n",
    "- Danish: dan\n",
    "- German: deu\n",
    "- Polish: pol\n",
    "- Slovak: slk\n",
    "- Chinese: zho\n",
    "- Russian: rus\n",
    "- Tagalog: tgl\n",
    "- Swedish: swe\n",
    "- Serbian: srp\n",
    "- Croatian: hrv"
   ]
  },
  {
   "cell_type": "markdown",
   "metadata": {},
   "source": [
    "Getting the vector representations of the languages "
   ]
  },
  {
   "cell_type": "code",
   "execution_count": 10,
   "metadata": {},
   "outputs": [
    {
     "data": {
      "text/plain": [
       "[1.0,\n",
       " 0.0,\n",
       " 0.0,\n",
       " 0.0,\n",
       " 0.0,\n",
       " 0.0,\n",
       " 1.0,\n",
       " 0.0,\n",
       " 1.0,\n",
       " 0.0,\n",
       " 1.0,\n",
       " 0.0,\n",
       " 1.0,\n",
       " 1.0,\n",
       " 0.0,\n",
       " 0.0,\n",
       " 0.0,\n",
       " 0.0,\n",
       " 0.0,\n",
       " 0.0,\n",
       " 1.0,\n",
       " 0.0,\n",
       " 1.0,\n",
       " 1.0,\n",
       " 1.0,\n",
       " 1.0,\n",
       " 1.0,\n",
       " 0.0,\n",
       " 0.0,\n",
       " 0.0,\n",
       " 1.0,\n",
       " 0.0,\n",
       " 0.0,\n",
       " 1.0,\n",
       " 0.0,\n",
       " 1.0,\n",
       " 0.0,\n",
       " 1.0,\n",
       " 0.0,\n",
       " 0.0,\n",
       " 0.0,\n",
       " 0.0,\n",
       " 1.0,\n",
       " 1.0,\n",
       " 0.0,\n",
       " 0.0,\n",
       " 0.0,\n",
       " 1.0,\n",
       " 0.0,\n",
       " 0.0,\n",
       " 1.0,\n",
       " 0.0,\n",
       " 0.0,\n",
       " 1.0,\n",
       " 0.0,\n",
       " 1.0,\n",
       " 0.0,\n",
       " 1.0,\n",
       " 0.0,\n",
       " 1.0,\n",
       " 0.0,\n",
       " 0.0,\n",
       " 1.0,\n",
       " 0.0,\n",
       " 0.0,\n",
       " 1.0,\n",
       " 0.0,\n",
       " 0.0,\n",
       " 1.0,\n",
       " 1.0,\n",
       " 1.0,\n",
       " 0.0,\n",
       " 0.0,\n",
       " 1.0,\n",
       " 1.0,\n",
       " 0.0,\n",
       " 0.0,\n",
       " 0.0,\n",
       " 0.0,\n",
       " 1.0,\n",
       " 0.0,\n",
       " 1.0,\n",
       " 0.0,\n",
       " 0.0,\n",
       " 0.0,\n",
       " 1.0,\n",
       " 0.0,\n",
       " 0.0,\n",
       " 1.0,\n",
       " 1.0,\n",
       " 1.0,\n",
       " 0.0,\n",
       " 1.0,\n",
       " 0.0,\n",
       " 0.0,\n",
       " 0.0,\n",
       " 0.0,\n",
       " 1.0,\n",
       " 1.0,\n",
       " 0.0,\n",
       " 0.0,\n",
       " 0.0,\n",
       " 1.0]"
      ]
     },
     "execution_count": 10,
     "metadata": {},
     "output_type": "execute_result"
    }
   ],
   "source": [
    "category = \"syntax_knn\"\n",
    "# Makes a lsit of all the vectors for the languages \n",
    "features = l2v.get_features([\"eng\",\"zho\", \"deu\", \"pol\", \"slk\", \"dan\", \"rus\", \"tgl\", \"swe\",\"srp\", \"hrv\"], category)\n",
    "# index at the language code to get the vector for that language \n",
    "# features[\"srp\"]"
   ]
  },
  {
   "cell_type": "markdown",
   "metadata": {},
   "source": [
    "### Cosine distance between all languages "
   ]
  },
  {
   "cell_type": "code",
   "execution_count": 11,
   "metadata": {},
   "outputs": [
    {
     "name": "stdout",
     "output_type": "stream",
     "text": [
      "Distance between eng and zho: 0.2892275292349139\n",
      "Distance between eng and deu: 0.09745802098497958\n",
      "Distance between eng and slk: 0.17840613445904518\n",
      "Distance between eng and dan: 0.11992176734660276\n",
      "Distance between eng and tgl: 0.3911844526817908\n",
      "Distance between eng and srp: 0.2040809427572\n",
      "Distance between eng and hrv: 0.16819960814394186\n",
      "Distance between zho and eng: 0.2892275292349139\n",
      "Distance between zho and deu: 0.36509782234284427\n",
      "Distance between zho and slk: 0.3247889635715203\n",
      "Distance between zho and dan: 0.32461836649402953\n",
      "Distance between zho and tgl: 0.4811254783372292\n",
      "Distance between zho and srp: 0.349796779735538\n",
      "Distance between zho and hrv: 0.3164009272185251\n",
      "Distance between deu and eng: 0.09745802098497958\n",
      "Distance between deu and zho: 0.36509782234284427\n",
      "Distance between deu and slk: 0.1664303605983033\n",
      "Distance between deu and dan: 0.0846742124087071\n",
      "Distance between deu and tgl: 0.4352550335979859\n",
      "Distance between deu and srp: 0.1902466360097803\n",
      "Distance between deu and hrv: 0.15607506120177872\n",
      "Distance between slk and eng: 0.17840613445904518\n",
      "Distance between slk and zho: 0.3247889635715203\n",
      "Distance between slk and deu: 0.1664303605983033\n",
      "Distance between slk and dan: 0.13861919370516207\n",
      "Distance between slk and tgl: 0.37344849947455616\n",
      "Distance between slk and srp: 0.04878048780487798\n",
      "Distance between slk and hrv: 0.03696364326665014\n",
      "Distance between dan and eng: 0.11992176734660276\n",
      "Distance between dan and zho: 0.32461836649402953\n",
      "Distance between dan and deu: 0.0846742124087071\n",
      "Distance between dan and slk: 0.13861919370516207\n",
      "Distance between dan and tgl: 0.4493112082460653\n",
      "Distance between dan and srp: 0.16395392330206904\n",
      "Distance between dan and hrv: 0.12791840072761895\n",
      "Distance between tgl and eng: 0.3911844526817908\n",
      "Distance between tgl and zho: 0.4811254783372292\n",
      "Distance between tgl and deu: 0.4352550335979859\n",
      "Distance between tgl and slk: 0.37344849947455616\n",
      "Distance between tgl and dan: 0.4493112082460653\n",
      "Distance between tgl and srp: 0.37344849947455616\n",
      "Distance between tgl and hrv: 0.3900624544071667\n",
      "Distance between srp and eng: 0.2040809427572\n",
      "Distance between srp and zho: 0.349796779735538\n",
      "Distance between srp and deu: 0.1902466360097803\n",
      "Distance between srp and slk: 0.04878048780487798\n",
      "Distance between srp and dan: 0.16395392330206904\n",
      "Distance between srp and tgl: 0.37344849947455616\n",
      "Distance between srp and hrv: 0.061656883182889866\n",
      "Distance between hrv and eng: 0.16819960814394186\n",
      "Distance between hrv and zho: 0.3164009272185251\n",
      "Distance between hrv and deu: 0.15607506120177872\n",
      "Distance between hrv and slk: 0.03696364326665014\n",
      "Distance between hrv and dan: 0.12791840072761895\n",
      "Distance between hrv and tgl: 0.3900624544071667\n",
      "Distance between hrv and srp: 0.061656883182889866\n"
     ]
    }
   ],
   "source": [
    "languages = [\"eng\", \"zho\", \"deu\", \"slk\", \"dan\", \"tgl\", \"srp\", \"hrv\"]\n",
    "for lang1 in languages: \n",
    "    for lang2 in languages: \n",
    "        if lang1 == lang2:\n",
    "            continue\n",
    "        else: \n",
    "            vec1 = features[lang1]\n",
    "            vec2 = features[lang2]\n",
    "            cos_dist = distance.cosine(vec1, vec2)\n",
    "            print(f\"Distance between {lang1} and {lang2}: {cos_dist}\")"
   ]
  },
  {
   "cell_type": "markdown",
   "metadata": {},
   "source": [
    "### Features \n",
    "\n"
   ]
  },
  {
   "cell_type": "code",
   "execution_count": 6,
   "metadata": {},
   "outputs": [
    {
     "data": {
      "text/plain": [
       "['syntax_wals',\n",
       " 'phonology_wals',\n",
       " 'syntax_sswl',\n",
       " 'syntax_ethnologue',\n",
       " 'phonology_ethnologue',\n",
       " 'inventory_ethnologue',\n",
       " 'inventory_phoible_aa',\n",
       " 'inventory_phoible_gm',\n",
       " 'inventory_phoible_saphon',\n",
       " 'inventory_phoible_spa',\n",
       " 'inventory_phoible_ph',\n",
       " 'inventory_phoible_ra',\n",
       " 'inventory_phoible_upsid',\n",
       " 'syntax_knn',\n",
       " 'phonology_knn',\n",
       " 'inventory_knn',\n",
       " 'syntax_average',\n",
       " 'phonology_average',\n",
       " 'inventory_average',\n",
       " 'fam',\n",
       " 'id',\n",
       " 'geo',\n",
       " 'learned']"
      ]
     },
     "execution_count": 6,
     "metadata": {},
     "output_type": "execute_result"
    }
   ],
   "source": [
    "l2v.FEATURE_SETS"
   ]
  },
  {
   "cell_type": "markdown",
   "metadata": {},
   "source": [
    "Meanings: \n",
    "- syntax: the arrangement of words and phrases\n",
    "- phonology: the study of the patterns of sounds in a language and across languages\n",
    "- geo: distance from fixed points on earth's surface \n",
    "- id: one-hot identity vector \n",
    "\n",
    "Additonal suffixes: \n",
    "- _avergage: averages of sets \n",
    "- _knn: KNN predictions of feature values \n",
    "- _fam: membership in language families and subfamil_ies\n",
    "\n",
    "Union: \n",
    "- You can union two feature sets using l2v.fs_union([\"feature1\", \"feature2\"])\n",
    "\n",
    "Concatenation\n",
    "- You ca concatenate two feature sets using l2v.fs_concatenation([\"feature1\", \"feature2\"])"
   ]
  },
  {
   "cell_type": "markdown",
   "metadata": {},
   "source": [
    "OLD STUFF BELOW: "
   ]
  },
  {
   "cell_type": "code",
   "execution_count": 5,
   "metadata": {},
   "outputs": [],
   "source": [
    "# getting each language vector seperately \n",
    "eng = features[\"eng\"]\n",
    "zho = features[\"zho\"]\n",
    "deu = features[\"deu\"]\n",
    "pol = features[\"pol\"]\n",
    "slk = features[\"slk\"]\n",
    "dan = features[\"dan\"]\n",
    "rus = features[\"rus\"]\n",
    "tgl = features[\"tgl\"]"
   ]
  },
  {
   "cell_type": "markdown",
   "metadata": {},
   "source": [
    "Cosine distance to get the language similarity - cosine distance is inversely proportional to the language similarity i.e. smaller cosine distance = higher language similarity "
   ]
  },
  {
   "cell_type": "code",
   "execution_count": 7,
   "metadata": {},
   "outputs": [
    {
     "name": "stdout",
     "output_type": "stream",
     "text": [
      "Distance from polish to slovak 0.17840613445904518\n",
      "Distance from english to german 0.09745802098497958\n",
      "Distance from english to danish 0.11992176734660276\n",
      "Distance from english to chinese 0.2892275292349139\n",
      "Distance from english to russian 0.18824593690905445\n",
      "Distance from english to Tagalog 0.3911844526817908\n"
     ]
    }
   ],
   "source": [
    "# cosine distance for english: \n",
    "eng_slk = distance.cosine(eng, slk)\n",
    "eng_deu = distance.cosine(eng, deu)\n",
    "eng_zho = distance.cosine(eng, zho)\n",
    "eng_dan = distance.cosine(eng, dan)\n",
    "eng_rus = distance.cosine(eng, rus)\n",
    "eng_tgl = distance.cosine(eng, tgl)\n",
    "\n",
    "print(\"Distance from polish to slovak\", eng_slk)\n",
    "print(\"Distance from english to german\", eng_deu)\n",
    "print(\"Distance from english to danish\", eng_dan)\n",
    "print(\"Distance from english to chinese\", eng_zho)\n",
    "print(\"Distance from english to russian\", eng_rus)\n",
    "print(\"Distance from english to tagalog\", eng_tgl)\n"
   ]
  },
  {
   "cell_type": "code",
   "execution_count": 8,
   "metadata": {},
   "outputs": [
    {
     "name": "stdout",
     "output_type": "stream",
     "text": [
      "Distance from polish to slovak 0.0842708838474282\n",
      "Distance from polish to german 0.19994463093047998\n",
      "Distance from polish to danish 0.17396681236909783\n",
      "Distance from polish to chinese 0.33287561500500895\n",
      "Distance from polish to russian 0.0714285714285714\n"
     ]
    }
   ],
   "source": [
    "# cosine distance for polish\n",
    "pol_slk = distance.cosine(pol, slk)\n",
    "pol_deu = distance.cosine(pol, deu)\n",
    "pol_zho = distance.cosine(pol, zho)\n",
    "pol_dan = distance.cosine(pol, dan)\n",
    "pol_rus = distance.cosine(pol, rus)\n",
    "pol_tgl = distance.cosine(pol, tgl)\n",
    "\n",
    "\n",
    "print(\"Distance from polish to slovak\", pol_slk)\n",
    "print(\"Distance from polish to german\", pol_deu)\n",
    "print(\"Distance from polish to danish\", pol_dan)\n",
    "print(\"Distance from polish to chinese\", pol_zho)\n",
    "print(\"Distance from polish to russian\", pol_rus)\n",
    "print(\"Distance from polish to tagalog\", pol_tgl)"
   ]
  },
  {
   "cell_type": "code",
   "execution_count": 9,
   "metadata": {},
   "outputs": [
    {
     "name": "stdout",
     "output_type": "stream",
     "text": [
      "Distance from tagalog to slovak 0.37344849947455616\n",
      "Distance from tagalog to german 0.4352550335979859\n",
      "Distance from tagalog to danish 0.4493112082460653\n",
      "Distance from tagalog to chinese 0.4811254783372292\n",
      "Distance from tagalog to russian 0.30952380952380953\n",
      "Distance from tagalog to english 0.3911844526817908\n",
      "Distance from tagalog to polish 0.33333333333333337\n"
     ]
    }
   ],
   "source": [
    "# cosine distance for polish\n",
    "tgl_slk = distance.cosine(tgl, slk)\n",
    "tgl_deu = distance.cosine(tgl, deu)\n",
    "tgl_zho = distance.cosine(tgl, zho)\n",
    "tgl_dan = distance.cosine(tgl, dan)\n",
    "tgl_rus = distance.cosine(tgl, rus)\n",
    "tgl_eng = distance.cosine(tgl, eng)\n",
    "tgl_pol = distance.cosine(tgl, pol)\n",
    "\n",
    "print(\"Distance from tagalog to slovak\", tgl_slk)\n",
    "print(\"Distance from tagalog to german\", tgl_deu)\n",
    "print(\"Distance from tagalog to danish\", tgl_dan)\n",
    "print(\"Distance from tagalog to chinese\", tgl_zho)\n",
    "print(\"Distance from tagalog to russian\", tgl_rus)\n",
    "print(\"Distance from tagalog to english\", tgl_eng)\n",
    "print(\"Distance from tagalog to polish\", tgl_pol)\n"
   ]
  },
  {
   "cell_type": "markdown",
   "metadata": {},
   "source": [
    "Exploring differnt vector types: lang2vec has vectors for differnet features of the languages, each representing them in differnet ways \n"
   ]
  },
  {
   "cell_type": "code",
   "execution_count": 51,
   "metadata": {},
   "outputs": [
    {
     "data": {
      "text/plain": [
       "['syntax_wals',\n",
       " 'phonology_wals',\n",
       " 'syntax_sswl',\n",
       " 'syntax_ethnologue',\n",
       " 'phonology_ethnologue',\n",
       " 'inventory_ethnologue',\n",
       " 'inventory_phoible_aa',\n",
       " 'inventory_phoible_gm',\n",
       " 'inventory_phoible_saphon',\n",
       " 'inventory_phoible_spa',\n",
       " 'inventory_phoible_ph',\n",
       " 'inventory_phoible_ra',\n",
       " 'inventory_phoible_upsid',\n",
       " 'syntax_knn',\n",
       " 'phonology_knn',\n",
       " 'inventory_knn',\n",
       " 'syntax_average',\n",
       " 'phonology_average',\n",
       " 'inventory_average',\n",
       " 'fam',\n",
       " 'id',\n",
       " 'geo',\n",
       " 'learned']"
      ]
     },
     "execution_count": 51,
     "metadata": {},
     "output_type": "execute_result"
    }
   ],
   "source": [
    "l2v.FEATURE_SETS"
   ]
  },
  {
   "cell_type": "code",
   "execution_count": null,
   "metadata": {},
   "outputs": [],
   "source": [
    "# phenology - how it sounds indivual bits \n",
    "# syntax - "
   ]
  }
 ],
 "metadata": {
  "kernelspec": {
   "display_name": "Python 3",
   "language": "python",
   "name": "python3"
  },
  "language_info": {
   "codemirror_mode": {
    "name": "ipython",
    "version": 3
   },
   "file_extension": ".py",
   "mimetype": "text/x-python",
   "name": "python",
   "nbconvert_exporter": "python",
   "pygments_lexer": "ipython3",
   "version": "3.11.2"
  }
 },
 "nbformat": 4,
 "nbformat_minor": 2
}
