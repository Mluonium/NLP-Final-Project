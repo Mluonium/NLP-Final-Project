{
 "cells": [
  {
   "cell_type": "markdown",
   "metadata": {},
   "source": [
    "## Language similarity "
   ]
  },
  {
   "cell_type": "markdown",
   "metadata": {},
   "source": [
    "### Lang2vec"
   ]
  },
  {
   "cell_type": "code",
   "execution_count": 1,
   "metadata": {},
   "outputs": [
    {
     "name": "stdout",
     "output_type": "stream",
     "text": [
      "Requirement already satisfied: lang2vec in c:\\users\\obe\\appdata\\local\\programs\\python\\python311\\lib\\site-packages (1.1.2)\n",
      "Requirement already satisfied: numpy in c:\\users\\obe\\appdata\\local\\programs\\python\\python311\\lib\\site-packages (from lang2vec) (1.26.3)\n",
      "Requirement already satisfied: setuptools in c:\\users\\obe\\appdata\\local\\programs\\python\\python311\\lib\\site-packages (from lang2vec) (65.5.0)\n",
      "Note: you may need to restart the kernel to use updated packages.\n"
     ]
    },
    {
     "name": "stderr",
     "output_type": "stream",
     "text": [
      "\n",
      "[notice] A new release of pip is available: 23.3.2 -> 24.0\n",
      "[notice] To update, run: python.exe -m pip install --upgrade pip\n"
     ]
    }
   ],
   "source": [
    "%pip install lang2vec"
   ]
  },
  {
   "cell_type": "code",
   "execution_count": 2,
   "metadata": {},
   "outputs": [],
   "source": [
    "import lang2vec.lang2vec as l2v\n",
    "from scipy.spatial import distance"
   ]
  },
  {
   "cell_type": "markdown",
   "metadata": {},
   "source": [
    "Lang2vec uses ISO 639-3 codes to represent the langugaes. \n",
    "Here are the relevant codes for our langugaes gotten from https://en.wikipedia.org/wiki/List_of_ISO_639_language_codes  \n",
    "- English: eng\n",
    "- Danish: dan\n",
    "- German: deu\n",
    "- Polish: pol\n",
    "- Slovak: slk\n",
    "- Chinese: zho\n",
    "- Russian: rus\n",
    "- Tagalog: tgl\n",
    "- Swedish: swe\n",
    "- Serbian: srp\n",
    "- Croatian: hrv\n",
    "- Portuguese: por"
   ]
  },
  {
   "cell_type": "markdown",
   "metadata": {},
   "source": [
    "### Getting the vector representations of the languages "
   ]
  },
  {
   "cell_type": "code",
   "execution_count": 22,
   "metadata": {},
   "outputs": [],
   "source": [
    "category = \"syntax_knn\"\n",
    "# cateogry = l2v.fs_union([\"syntax_wals\", \"syntax_sswl\"])\n",
    "# Makes a lsit of all the vectors for the languages \n",
    "features = l2v.get_features([\"eng\",\"zho\", \"deu\", \"pol\", \"slk\", \"dan\", \"rus\", \"tgl\", \"swe\",\"srp\", \"hrv\", \"por\"], category)\n",
    "# index at the language code to get the vector for that language \n",
    "# features[\"srp\"]"
   ]
  },
  {
   "cell_type": "markdown",
   "metadata": {},
   "source": [
    "### Cosine distance between all languages "
   ]
  },
  {
   "cell_type": "code",
   "execution_count": 23,
   "metadata": {},
   "outputs": [
    {
     "name": "stdout",
     "output_type": "stream",
     "text": [
      "Distance between eng and zho: 0.2892275292349139\n",
      "Distance between eng and deu: 0.09745802098497958\n",
      "Distance between eng and slk: 0.17840613445904518\n",
      "Distance between eng and dan: 0.11992176734660276\n",
      "Distance between eng and tgl: 0.3911844526817908\n",
      "Distance between eng and srp: 0.2040809427572\n",
      "Distance between eng and hrv: 0.16819960814394186\n",
      "Distance between eng and swe: 0.06658369264033626\n",
      "Distance between eng and por: 0.15760299761174978\n",
      "Distance between zho and eng: 0.2892275292349139\n",
      "Distance between zho and deu: 0.36509782234284427\n",
      "Distance between zho and slk: 0.3247889635715203\n",
      "Distance between zho and dan: 0.32461836649402953\n",
      "Distance between zho and tgl: 0.4811254783372292\n",
      "Distance between zho and srp: 0.349796779735538\n",
      "Distance between zho and hrv: 0.3164009272185251\n",
      "Distance between zho and swe: 0.298642149820723\n",
      "Distance between zho and por: 0.33333333333333337\n",
      "Distance between deu and eng: 0.09745802098497958\n",
      "Distance between deu and zho: 0.36509782234284427\n",
      "Distance between deu and slk: 0.1664303605983033\n",
      "Distance between deu and dan: 0.0846742124087071\n",
      "Distance between deu and tgl: 0.4352550335979859\n",
      "Distance between deu and srp: 0.1902466360097803\n",
      "Distance between deu and hrv: 0.15607506120177872\n",
      "Distance between deu and swe: 0.10941274720847183\n",
      "Distance between deu and por: 0.19416262066591772\n",
      "Distance between slk and eng: 0.17840613445904518\n",
      "Distance between slk and zho: 0.3247889635715203\n",
      "Distance between slk and deu: 0.1664303605983033\n",
      "Distance between slk and dan: 0.13861919370516207\n",
      "Distance between slk and tgl: 0.37344849947455616\n",
      "Distance between slk and srp: 0.04878048780487798\n",
      "Distance between slk and hrv: 0.03696364326665014\n",
      "Distance between slk and swe: 0.13861919370516207\n",
      "Distance between slk and por: 0.09971861809536031\n",
      "Distance between dan and eng: 0.11992176734660276\n",
      "Distance between dan and zho: 0.32461836649402953\n",
      "Distance between dan and deu: 0.0846742124087071\n",
      "Distance between dan and slk: 0.13861919370516207\n",
      "Distance between dan and tgl: 0.4493112082460653\n",
      "Distance between dan and srp: 0.16395392330206904\n",
      "Distance between dan and hrv: 0.12791840072761895\n",
      "Distance between dan and swe: 0.05263157894736836\n",
      "Distance between dan and por: 0.19473728312749683\n",
      "Distance between tgl and eng: 0.3911844526817908\n",
      "Distance between tgl and zho: 0.4811254783372292\n",
      "Distance between tgl and deu: 0.4352550335979859\n",
      "Distance between tgl and slk: 0.37344849947455616\n",
      "Distance between tgl and dan: 0.4493112082460653\n",
      "Distance between tgl and srp: 0.37344849947455616\n",
      "Distance between tgl and hrv: 0.3900624544071667\n",
      "Distance between tgl and swe: 0.3992485908138894\n",
      "Distance between tgl and por: 0.3081673044496389\n",
      "Distance between srp and eng: 0.2040809427572\n",
      "Distance between srp and zho: 0.349796779735538\n",
      "Distance between srp and deu: 0.1902466360097803\n",
      "Distance between srp and slk: 0.04878048780487798\n",
      "Distance between srp and dan: 0.16395392330206904\n",
      "Distance between srp and tgl: 0.37344849947455616\n",
      "Distance between srp and hrv: 0.061656883182889866\n",
      "Distance between srp and swe: 0.16395392330206904\n",
      "Distance between srp and por: 0.09971861809536031\n",
      "Distance between hrv and eng: 0.16819960814394186\n",
      "Distance between hrv and zho: 0.3164009272185251\n",
      "Distance between hrv and deu: 0.15607506120177872\n",
      "Distance between hrv and slk: 0.03696364326665014\n",
      "Distance between hrv and dan: 0.12791840072761895\n",
      "Distance between hrv and tgl: 0.3900624544071667\n",
      "Distance between hrv and srp: 0.061656883182889866\n",
      "Distance between hrv and swe: 0.12791840072761895\n",
      "Distance between hrv and por: 0.11385305380179167\n",
      "Distance between swe and eng: 0.06658369264033626\n",
      "Distance between swe and zho: 0.298642149820723\n",
      "Distance between swe and deu: 0.10941274720847183\n",
      "Distance between swe and slk: 0.13861919370516207\n",
      "Distance between swe and dan: 0.05263157894736836\n",
      "Distance between swe and tgl: 0.3992485908138894\n",
      "Distance between swe and srp: 0.16395392330206904\n",
      "Distance between swe and hrv: 0.12791840072761895\n",
      "Distance between swe and por: 0.14278484978088368\n",
      "Distance between por and eng: 0.15760299761174978\n",
      "Distance between por and zho: 0.33333333333333337\n",
      "Distance between por and deu: 0.19416262066591772\n",
      "Distance between por and slk: 0.09971861809536031\n",
      "Distance between por and dan: 0.19473728312749683\n",
      "Distance between por and tgl: 0.3081673044496389\n",
      "Distance between por and srp: 0.09971861809536031\n",
      "Distance between por and hrv: 0.11385305380179167\n",
      "Distance between por and swe: 0.14278484978088368\n"
     ]
    }
   ],
   "source": [
<<<<<<< HEAD
    "languages = [\"eng\", \"zho\", \"deu\", \"slk\", \"dan\", \"tgl\", \"srp\", \"hrv\", \"swe\", \"por\"]\n",
=======
    "languages = [\"eng\", \"zho\", \"deu\", \"slk\", \"dan\", \"tgl\", \"srp\", \"hrv\"]\n",
>>>>>>> parent of 3499915 (serbian model)
    "for lang1 in languages: \n",
    "    for lang2 in languages: \n",
    "        if lang1 == lang2:\n",
    "            continue\n",
    "        else: \n",
    "            vec1 = features[lang1]\n",
    "            vec2 = features[lang2]\n",
    "            cos_dist = distance.cosine(vec1, vec2)\n",
    "            print(f\"Distance between {lang1} and {lang2}: {cos_dist}\")"
   ]
  },
  {
   "cell_type": "markdown",
   "metadata": {},
   "source": [
    "### Features \n",
    "\n"
   ]
  },
  {
   "cell_type": "code",
   "execution_count": 6,
   "metadata": {},
   "outputs": [
    {
     "data": {
      "text/plain": [
       "['syntax_wals',\n",
       " 'phonology_wals',\n",
       " 'syntax_sswl',\n",
       " 'syntax_ethnologue',\n",
       " 'phonology_ethnologue',\n",
       " 'inventory_ethnologue',\n",
       " 'inventory_phoible_aa',\n",
       " 'inventory_phoible_gm',\n",
       " 'inventory_phoible_saphon',\n",
       " 'inventory_phoible_spa',\n",
       " 'inventory_phoible_ph',\n",
       " 'inventory_phoible_ra',\n",
       " 'inventory_phoible_upsid',\n",
       " 'syntax_knn',\n",
       " 'phonology_knn',\n",
       " 'inventory_knn',\n",
       " 'syntax_average',\n",
       " 'phonology_average',\n",
       " 'inventory_average',\n",
       " 'fam',\n",
       " 'id',\n",
       " 'geo',\n",
       " 'learned']"
      ]
     },
     "execution_count": 6,
     "metadata": {},
     "output_type": "execute_result"
    }
   ],
   "source": [
    "l2v.FEATURE_SETS"
   ]
  },
  {
   "cell_type": "markdown",
   "metadata": {},
   "source": [
    "More info here: https://github.com/antonisa/lang2vec\n",
    "\n",
    "Meanings: \n",
    "- syntax: the arrangement of words and phrases\n",
    "- phonology: the study of the patterns of sounds in a language and across languages\n",
    "- geo: distance from fixed points on earth's surface \n",
    "- id: one-hot identity vector \n",
    "- fam: membership in language families and subfamil_ies\n",
    "\n",
    "Additonal suffixes: \n",
    "- _avergage: averages of sets \n",
    "- _knn: KNN predictions of feature values \n",
    "- _learned: 512-dimensional vectors learned by a neural network over data from 1017 languages, trained for typological prediction \n",
    "- _wals: feature derived from the World Atlas of Language Structures \n",
    "- _sswl : Features derived from Syntactic Structures of the World's Languages\n",
    "- _ethnologue : Features derived from (shallowly) parsing the prose typological descriptions in Ethnologue \n",
    "- _phoible_aa : AA = Alphabets of Africa. Features derived from PHOIBLE's normalization of Systèmes alphabétiques des langues africaines \n",
    "\n",
    "Union: \n",
    "- You can union two feature sets using l2v.fs_union([\"feature1\", \"feature2\"])\n",
    "- Combines vectors by taking element-wise max among corresponding dimensions of the vectors \n",
    "- Useful when you want to capture the maximum information from each language embedding without losing any data\n",
    "- Suitable when you want to create a joint representation that incorporates the most significant features from each language\n",
    "\n",
    "Concatenation\n",
    "- You can concatenate two feature sets using l2v.fs_concatenation([\"feature1\", \"feature2\"])\n",
    "- Appends the vectors together along a specific axis to create a longer, combined vector\n",
    "- Useful when you want to preserve the individual characteristics of each language embedding while creating a larger, joint embedding space\n",
    "- Suitable when you want to maintain the distinctiveness of each language while still creating a joint representation\n",
    "\n",
    "Union vs concatenation: \n",
    "-  Union function focuses on preserving the maximum information from each language embedding, while the concatenation function retains the individual characteristics of each embedding by combining them along a specified axis\n",
    "Which is best for us? \n",
    "- Depends on whether we want to prioritize capturing the maximum information from each language embedding (union) or preserving the individual characteristics of each embedding (concatenation)"
   ]
  },
  {
   "cell_type": "markdown",
   "metadata": {},
   "source": [
    "### Displaying results and land sim "
   ]
  },
  {
   "cell_type": "markdown",
   "metadata": {},
   "source": [
    "#### English model"
   ]
  },
  {
   "cell_type": "code",
   "execution_count": 25,
   "metadata": {},
   "outputs": [
    {
     "data": {
      "image/png": "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",
      "text/plain": [
       "<Figure size 640x480 with 1 Axes>"
      ]
     },
     "metadata": {},
     "output_type": "display_data"
    }
   ],
   "source": [
    "import matplotlib.pyplot as plt\n",
    "import numpy as np\n",
    "\n",
    "# Define x, y, and colors for each point\n",
    "langs = [\"zho\", \"deu\", \"slk\", \"dan\",\"srp\", \"hrv\", \"swe\", \"por\"]\n",
    "lang_sim = np.array([0.2892275292349139, 0.09745802098497958,0.17840613445904518, 0.11992176734660276,  0.2040809427572, 0.16819960814394186, 0.06658369264033626, 0.15760299761174978])\n",
    "f1_score = np.array([0.6783899961, 0.7845509539, 0.6596356663, 0.7519294377, 0.7576419214, 0.747962178, 0.8308858361, 0.8037718904])\n",
    "\n",
    "colors = ['red', 'green', 'blue', 'yellow', 'purple', \"black\", \"cyan\",  \"magenta\"]\n",
    "\n",
    "# Create a scatter plot with multiple colors\n",
    "plt.scatter(lang_sim, f1_score, c=colors)\n",
    "\n",
    "# Add labels and title\n",
    "plt.xlabel('X')\n",
    "plt.ylabel('Y')\n",
    "plt.title('Scatter plot with Multiple Colours!')\n",
    "\n",
    "plt.show()"
   ]
  },
  {
   "cell_type": "markdown",
   "metadata": {},
   "source": [
    "### Croatian model"
   ]
  },
  {
   "cell_type": "code",
   "execution_count": 26,
   "metadata": {},
   "outputs": [
    {
     "data": {
      "image/png": "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",
      "text/plain": [
       "<Figure size 640x480 with 1 Axes>"
      ]
     },
     "metadata": {},
     "output_type": "display_data"
    }
   ],
   "source": [
    "import matplotlib.pyplot as plt\n",
    "\n",
    "# Define x, y, and colors for each point\n",
    "langs = [\"zho\", \"deu\", \"slk\", \"dan\",\"srp\", \"eng\", \"swe\", \"por\"]\n",
    "lang_sim = [0.3164009272185251, 0.15607506120177872, 0.03696364326665014, 0.12791840072761895, 0.061656883182889866, 0.16819960814394186,0.12791840072761895, 0.11385305380179167 ]\n",
    "f1_score = [0.5397840864, 0.7059352518, 0.6980351603, 0.7878103837,0.9158878505, 0.5765426284, 0.7816635161 ,  0.7569178374]\n",
    "\n",
    "colors = ['red', 'green', 'blue', 'yellow', 'purple', \"black\", \"cyan\", \"magenta\"]\n",
    "\n",
    "# Create a scatter plot with multiple colors\n",
    "plt.scatter(lang_sim, f1_score, c=colors)\n",
    "\n",
    "# Add labels and title\n",
    "plt.xlabel('X')\n",
    "plt.ylabel('Y')\n",
    "plt.title('Scatter plot with Multiple Colours!')\n",
    "\n",
    "plt.show()"
   ]
  },
  {
   "cell_type": "markdown",
   "metadata": {},
   "source": [
    "### OLD STUFF BELOW (ignore)"
   ]
  },
  {
   "cell_type": "code",
   "execution_count": 5,
   "metadata": {},
   "outputs": [],
   "source": [
    "# getting each language vector seperately \n",
    "eng = features[\"eng\"]\n",
    "zho = features[\"zho\"]\n",
    "deu = features[\"deu\"]\n",
    "pol = features[\"pol\"]\n",
    "slk = features[\"slk\"]\n",
    "dan = features[\"dan\"]\n",
    "rus = features[\"rus\"]\n",
    "tgl = features[\"tgl\"]"
   ]
  },
  {
   "cell_type": "markdown",
   "metadata": {},
   "source": [
    "Cosine distance to get the language similarity - cosine distance is inversely proportional to the language similarity i.e. smaller cosine distance = higher language similarity "
   ]
  },
  {
   "cell_type": "code",
   "execution_count": 7,
   "metadata": {},
   "outputs": [
    {
     "name": "stdout",
     "output_type": "stream",
     "text": [
      "Distance from polish to slovak 0.17840613445904518\n",
      "Distance from english to german 0.09745802098497958\n",
      "Distance from english to danish 0.11992176734660276\n",
      "Distance from english to chinese 0.2892275292349139\n",
      "Distance from english to russian 0.18824593690905445\n",
      "Distance from english to Tagalog 0.3911844526817908\n"
     ]
    }
   ],
   "source": [
    "# cosine distance for english: \n",
    "eng_slk = distance.cosine(eng, slk)\n",
    "eng_deu = distance.cosine(eng, deu)\n",
    "eng_zho = distance.cosine(eng, zho)\n",
    "eng_dan = distance.cosine(eng, dan)\n",
    "eng_rus = distance.cosine(eng, rus)\n",
    "eng_tgl = distance.cosine(eng, tgl)\n",
    "\n",
    "print(\"Distance from polish to slovak\", eng_slk)\n",
    "print(\"Distance from english to german\", eng_deu)\n",
    "print(\"Distance from english to danish\", eng_dan)\n",
    "print(\"Distance from english to chinese\", eng_zho)\n",
    "print(\"Distance from english to russian\", eng_rus)\n",
    "print(\"Distance from english to tagalog\", eng_tgl)\n"
   ]
  },
  {
   "cell_type": "code",
   "execution_count": 8,
   "metadata": {},
   "outputs": [
    {
     "name": "stdout",
     "output_type": "stream",
     "text": [
      "Distance from polish to slovak 0.0842708838474282\n",
      "Distance from polish to german 0.19994463093047998\n",
      "Distance from polish to danish 0.17396681236909783\n",
      "Distance from polish to chinese 0.33287561500500895\n",
      "Distance from polish to russian 0.0714285714285714\n"
     ]
    }
   ],
   "source": [
    "# cosine distance for polish\n",
    "pol_slk = distance.cosine(pol, slk)\n",
    "pol_deu = distance.cosine(pol, deu)\n",
    "pol_zho = distance.cosine(pol, zho)\n",
    "pol_dan = distance.cosine(pol, dan)\n",
    "pol_rus = distance.cosine(pol, rus)\n",
    "pol_tgl = distance.cosine(pol, tgl)\n",
    "\n",
    "\n",
    "print(\"Distance from polish to slovak\", pol_slk)\n",
    "print(\"Distance from polish to german\", pol_deu)\n",
    "print(\"Distance from polish to danish\", pol_dan)\n",
    "print(\"Distance from polish to chinese\", pol_zho)\n",
    "print(\"Distance from polish to russian\", pol_rus)\n",
    "print(\"Distance from polish to tagalog\", pol_tgl)"
   ]
  },
  {
   "cell_type": "code",
   "execution_count": 9,
   "metadata": {},
   "outputs": [
    {
     "name": "stdout",
     "output_type": "stream",
     "text": [
      "Distance from tagalog to slovak 0.37344849947455616\n",
      "Distance from tagalog to german 0.4352550335979859\n",
      "Distance from tagalog to danish 0.4493112082460653\n",
      "Distance from tagalog to chinese 0.4811254783372292\n",
      "Distance from tagalog to russian 0.30952380952380953\n",
      "Distance from tagalog to english 0.3911844526817908\n",
      "Distance from tagalog to polish 0.33333333333333337\n"
     ]
    }
   ],
   "source": [
    "# cosine distance for polish\n",
    "tgl_slk = distance.cosine(tgl, slk)\n",
    "tgl_deu = distance.cosine(tgl, deu)\n",
    "tgl_zho = distance.cosine(tgl, zho)\n",
    "tgl_dan = distance.cosine(tgl, dan)\n",
    "tgl_rus = distance.cosine(tgl, rus)\n",
    "tgl_eng = distance.cosine(tgl, eng)\n",
    "tgl_pol = distance.cosine(tgl, pol)\n",
    "\n",
    "print(\"Distance from tagalog to slovak\", tgl_slk)\n",
    "print(\"Distance from tagalog to german\", tgl_deu)\n",
    "print(\"Distance from tagalog to danish\", tgl_dan)\n",
    "print(\"Distance from tagalog to chinese\", tgl_zho)\n",
    "print(\"Distance from tagalog to russian\", tgl_rus)\n",
    "print(\"Distance from tagalog to english\", tgl_eng)\n",
    "print(\"Distance from tagalog to polish\", tgl_pol)\n"
   ]
  },
  {
   "cell_type": "markdown",
   "metadata": {},
   "source": [
    "Exploring differnt vector types: lang2vec has vectors for differnet features of the languages, each representing them in differnet ways \n"
   ]
  },
  {
   "cell_type": "code",
   "execution_count": 51,
   "metadata": {},
   "outputs": [
    {
     "data": {
      "text/plain": [
       "['syntax_wals',\n",
       " 'phonology_wals',\n",
       " 'syntax_sswl',\n",
       " 'syntax_ethnologue',\n",
       " 'phonology_ethnologue',\n",
       " 'inventory_ethnologue',\n",
       " 'inventory_phoible_aa',\n",
       " 'inventory_phoible_gm',\n",
       " 'inventory_phoible_saphon',\n",
       " 'inventory_phoible_spa',\n",
       " 'inventory_phoible_ph',\n",
       " 'inventory_phoible_ra',\n",
       " 'inventory_phoible_upsid',\n",
       " 'syntax_knn',\n",
       " 'phonology_knn',\n",
       " 'inventory_knn',\n",
       " 'syntax_average',\n",
       " 'phonology_average',\n",
       " 'inventory_average',\n",
       " 'fam',\n",
       " 'id',\n",
       " 'geo',\n",
       " 'learned']"
      ]
     },
     "execution_count": 51,
     "metadata": {},
     "output_type": "execute_result"
    }
   ],
   "source": [
    "l2v.FEATURE_SETS"
   ]
  },
  {
   "cell_type": "code",
   "execution_count": null,
   "metadata": {},
   "outputs": [],
   "source": [
    "# phenology - how it sounds indivual bits \n",
    "# syntax - \n",
    "\n",
    "Distance between dan and eng: 0.11992176734660276\n",
    "Distance between dan and zho: 0.32461836649402953\n",
    "Distance between dan and deu: 0.0846742124087071\n",
    "Distance between dan and slk: 0.13861919370516207\n",
    "Distance between dan and tgl: 0.4493112082460653\n",
    "Distance between dan and srp: 0.16395392330206904\n",
    "Distance between dan and hrv: 0.12791840072761895\n",
    "\n",
    "\n"
   ]
  }
 ],
 "metadata": {
  "kernelspec": {
   "display_name": "Python 3",
   "language": "python",
   "name": "python3"
  },
  "language_info": {
   "codemirror_mode": {
    "name": "ipython",
    "version": 3
   },
   "file_extension": ".py",
   "mimetype": "text/x-python",
   "name": "python",
   "nbconvert_exporter": "python",
   "pygments_lexer": "ipython3",
   "version": "3.11.2"
  }
 },
 "nbformat": 4,
 "nbformat_minor": 2
}
