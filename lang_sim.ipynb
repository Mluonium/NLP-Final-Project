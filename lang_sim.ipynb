{
 "cells": [
  {
   "cell_type": "markdown",
   "metadata": {},
   "source": [
    "## Language similarity "
   ]
  },
  {
   "cell_type": "markdown",
   "metadata": {},
   "source": [
    "### Lang2vec"
   ]
  },
  {
   "cell_type": "code",
   "execution_count": 2,
   "metadata": {},
   "outputs": [
    {
     "name": "stdout",
     "output_type": "stream",
     "text": [
      "Note: you may need to restart the kernel to use updated packages.Requirement already satisfied: lang2vec in c:\\users\\obe\\appdata\\local\\programs\\python\\python311\\lib\\site-packages (1.1.2)\n",
      "Requirement already satisfied: numpy in c:\\users\\obe\\appdata\\local\\programs\\python\\python311\\lib\\site-packages (from lang2vec) (1.26.3)\n",
      "Requirement already satisfied: setuptools in c:\\users\\obe\\appdata\\local\\programs\\python\\python311\\lib\\site-packages (from lang2vec) (65.5.0)\n",
      "\n"
     ]
    },
    {
     "name": "stderr",
     "output_type": "stream",
     "text": [
      "\n",
      "[notice] A new release of pip is available: 23.3.2 -> 24.0\n",
      "[notice] To update, run: python.exe -m pip install --upgrade pip\n"
     ]
    }
   ],
   "source": [
    "%pip install lang2vec"
   ]
  },
  {
   "cell_type": "code",
   "execution_count": 3,
   "metadata": {},
   "outputs": [],
   "source": [
    "import lang2vec.lang2vec as l2v\n",
    "from scipy.spatial import distance"
   ]
  },
  {
   "cell_type": "markdown",
   "metadata": {},
   "source": [
    "Lang2vec uses ISO 639-3 codes to represent the langugaes. \n",
    "Here are the relevant codes for our langugaes gotten from https://en.wikipedia.org/wiki/List_of_ISO_639_language_codes: \n",
    "- English: eng\n",
    "- Danish: dan\n",
    "- German: deu\n",
    "- Polish: pol\n",
    "- Slovak: slk\n",
    "- Chinese: zho\n",
    "- Russian: rus"
   ]
  },
  {
   "cell_type": "markdown",
   "metadata": {},
   "source": [
    "Getting the vector representations of the languages "
   ]
  },
  {
   "cell_type": "code",
   "execution_count": 4,
   "metadata": {},
   "outputs": [
    {
     "data": {
      "text/plain": [
       "[1.0,\n",
       " 0.0,\n",
       " 0.0,\n",
       " 0.0,\n",
       " 0.0,\n",
       " 0.0,\n",
       " 1.0,\n",
       " 0.0,\n",
       " 1.0,\n",
       " 0.0,\n",
       " 1.0,\n",
       " 0.0,\n",
       " 1.0,\n",
       " 1.0,\n",
       " 0.0,\n",
       " 1.0,\n",
       " 0.0,\n",
       " 1.0,\n",
       " 0.0,\n",
       " 0.0,\n",
       " 1.0,\n",
       " 0.0,\n",
       " 1.0,\n",
       " 1.0,\n",
       " 1.0,\n",
       " 0.0,\n",
       " 1.0,\n",
       " 0.0,\n",
       " 0.0,\n",
       " 0.0,\n",
       " 1.0,\n",
       " 0.0,\n",
       " 0.0,\n",
       " 1.0,\n",
       " 0.0,\n",
       " 0.0,\n",
       " 0.0,\n",
       " 1.0,\n",
       " 0.0,\n",
       " 1.0,\n",
       " 0.0,\n",
       " 0.0,\n",
       " 1.0,\n",
       " 1.0,\n",
       " 0.0,\n",
       " 0.0,\n",
       " 0.0,\n",
       " 1.0,\n",
       " 0.0,\n",
       " 0.0,\n",
       " 1.0,\n",
       " 0.0,\n",
       " 0.0,\n",
       " 1.0,\n",
       " 0.0,\n",
       " 1.0,\n",
       " 0.0,\n",
       " 1.0,\n",
       " 0.0,\n",
       " 1.0,\n",
       " 0.0,\n",
       " 0.0,\n",
       " 0.0,\n",
       " 0.0,\n",
       " 0.0,\n",
       " 0.0,\n",
       " 0.0,\n",
       " 0.0,\n",
       " 0.0,\n",
       " 0.0,\n",
       " 1.0,\n",
       " 0.0,\n",
       " 0.0,\n",
       " 1.0,\n",
       " 1.0,\n",
       " 1.0,\n",
       " 0.0,\n",
       " 0.0,\n",
       " 0.0,\n",
       " 0.0,\n",
       " 0.0,\n",
       " 1.0,\n",
       " 0.0,\n",
       " 0.0,\n",
       " 1.0,\n",
       " 0.0,\n",
       " 0.0,\n",
       " 0.0,\n",
       " 1.0,\n",
       " 0.0,\n",
       " 1.0,\n",
       " 0.0,\n",
       " 1.0,\n",
       " 0.0,\n",
       " 0.0,\n",
       " 0.0,\n",
       " 0.0,\n",
       " 1.0,\n",
       " 1.0,\n",
       " 0.0,\n",
       " 0.0,\n",
       " 1.0,\n",
       " 0.0]"
      ]
     },
     "execution_count": 4,
     "metadata": {},
     "output_type": "execute_result"
    }
   ],
   "source": [
    "category = \"syntax_knn\"\n",
    "# Makes a lsit of all the vectors for the languages \n",
    "features = l2v.get_features([\"eng\",\"zho\", \"deu\", \"pol\", \"slk\", \"dan\", \"rus\"], category)\n",
    "# index at the language code to get the vector for that language \n",
    "features[\"eng\"]"
   ]
  },
  {
   "cell_type": "code",
   "execution_count": 5,
   "metadata": {},
   "outputs": [],
   "source": [
    "# getting each language vector seperately \n",
    "eng = features[\"eng\"]\n",
    "zho = features[\"zho\"]\n",
    "deu = features[\"deu\"]\n",
    "pol = features[\"pol\"]\n",
    "slk = features[\"slk\"]\n",
    "dan = features[\"dan\"]\n",
    "rus = features[\"rus\"]"
   ]
  },
  {
   "cell_type": "markdown",
   "metadata": {},
   "source": [
    "Cosine distance to get the language similarity - cosine distance is inversely proportional to the language similarity i.e. smaller cosine distance = higher language similarity "
   ]
  },
  {
   "cell_type": "code",
   "execution_count": 7,
   "metadata": {},
   "outputs": [
    {
     "name": "stdout",
     "output_type": "stream",
     "text": [
      "Distance form polish to slovak 0.17840613445904518\n",
      "Distance form english to german 0.09745802098497958\n",
      "Distance form english to danish 0.11992176734660276\n",
      "Distance form english to chinese 0.2892275292349139\n",
      "Distance form english to russian 0.18824593690905445\n"
     ]
    }
   ],
   "source": [
    "# cosine distance for english: \n",
    "eng_slk = distance.cosine(eng, slk)\n",
    "eng_deu = distance.cosine(eng, deu)\n",
    "eng_zho = distance.cosine(eng, zho)\n",
    "eng_dan = distance.cosine(eng, dan)\n",
    "eng_rus = distance.cosine(eng, rus)\n",
    "\n",
    "print(\"Distance from polish to slovak\", eng_slk)\n",
    "print(\"Distance from english to german\", eng_deu)\n",
    "print(\"Distance from english to danish\", eng_dan)\n",
    "print(\"Distance from english to chinese\", eng_zho)\n",
    "print(\"Distance from english to russian\", eng_rus)\n"
   ]
  },
  {
   "cell_type": "code",
   "execution_count": 8,
   "metadata": {},
   "outputs": [
    {
     "name": "stdout",
     "output_type": "stream",
     "text": [
      "Distance from polish to slovak 0.0842708838474282\n",
      "Distance from polish to german 0.19994463093047998\n",
      "Distance from polish to danish 0.17396681236909783\n",
      "Distance from polish to chinese 0.33287561500500895\n",
      "Distance from polish to russian 0.0714285714285714\n"
     ]
    }
   ],
   "source": [
    "# cosine distance for polish\n",
    "pol_slk = distance.cosine(pol, slk)\n",
    "pol_deu = distance.cosine(pol, deu)\n",
    "pol_zho = distance.cosine(pol, zho)\n",
    "pol_dan = distance.cosine(pol, dan)\n",
    "pol_rus = distance.cosine(pol, rus)\n",
    "\n",
    "\n",
    "print(\"Distance from polish to slovak\", pol_slk)\n",
    "print(\"Distance from polish to german\", pol_deu)\n",
    "print(\"Distance from polish to danish\", pol_dan)\n",
    "print(\"Distance from polish to chinese\", pol_zho)\n",
    "print(\"Distance from polish to russian\", pol_rus)"
   ]
  },
  {
   "cell_type": "markdown",
   "metadata": {},
   "source": [
    "Exploring differnt vector types: lang2vec has vectors for differnet features of the languages, each representing them in differnet ways \n"
   ]
  },
  {
   "cell_type": "code",
   "execution_count": 51,
   "metadata": {},
   "outputs": [
    {
     "data": {
      "text/plain": [
       "['syntax_wals',\n",
       " 'phonology_wals',\n",
       " 'syntax_sswl',\n",
       " 'syntax_ethnologue',\n",
       " 'phonology_ethnologue',\n",
       " 'inventory_ethnologue',\n",
       " 'inventory_phoible_aa',\n",
       " 'inventory_phoible_gm',\n",
       " 'inventory_phoible_saphon',\n",
       " 'inventory_phoible_spa',\n",
       " 'inventory_phoible_ph',\n",
       " 'inventory_phoible_ra',\n",
       " 'inventory_phoible_upsid',\n",
       " 'syntax_knn',\n",
       " 'phonology_knn',\n",
       " 'inventory_knn',\n",
       " 'syntax_average',\n",
       " 'phonology_average',\n",
       " 'inventory_average',\n",
       " 'fam',\n",
       " 'id',\n",
       " 'geo',\n",
       " 'learned']"
      ]
     },
     "execution_count": 51,
     "metadata": {},
     "output_type": "execute_result"
    }
   ],
   "source": [
    "l2v.FEATURE_SETS"
   ]
  },
  {
   "cell_type": "code",
   "execution_count": null,
   "metadata": {},
   "outputs": [],
   "source": []
  }
 ],
 "metadata": {
  "kernelspec": {
   "display_name": "Python 3",
   "language": "python",
   "name": "python3"
  },
  "language_info": {
   "codemirror_mode": {
    "name": "ipython",
    "version": 3
   },
   "file_extension": ".py",
   "mimetype": "text/x-python",
   "name": "python",
   "nbconvert_exporter": "python",
   "pygments_lexer": "ipython3",
   "version": "3.11.2"
  }
 },
 "nbformat": 4,
 "nbformat_minor": 2
}
