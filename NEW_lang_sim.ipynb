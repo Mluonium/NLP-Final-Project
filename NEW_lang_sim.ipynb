{
 "cells": [
  {
   "cell_type": "markdown",
   "metadata": {},
   "source": [
    "## Language similarity "
   ]
  },
  {
   "cell_type": "markdown",
   "metadata": {},
   "source": [
    "### Lang2vec"
   ]
  },
  {
   "cell_type": "code",
   "execution_count": 1,
   "metadata": {},
   "outputs": [
    {
     "name": "stdout",
     "output_type": "stream",
     "text": [
      "Requirement already satisfied: lang2vec in c:\\users\\annam\\appdata\\local\\programs\\python\\python311\\lib\\site-packages (1.1.2)\n",
      "Requirement already satisfied: numpy in c:\\users\\annam\\appdata\\local\\programs\\python\\python311\\lib\\site-packages (from lang2vec) (1.24.3)\n",
      "Requirement already satisfied: setuptools in c:\\users\\annam\\appdata\\local\\programs\\python\\python311\\lib\\site-packages (from lang2vec) (65.5.0)\n",
      "Note: you may need to restart the kernel to use updated packages.\n"
     ]
    },
    {
     "name": "stderr",
     "output_type": "stream",
     "text": [
      "\n",
      "[notice] A new release of pip is available: 23.3.2 -> 24.0\n",
      "[notice] To update, run: python.exe -m pip install --upgrade pip\n"
     ]
    },
    {
     "name": "stdout",
     "output_type": "stream",
     "text": [
      "Requirement already satisfied: openpyxl in c:\\users\\annam\\appdata\\local\\programs\\python\\python311\\lib\\site-packages (3.1.2)\n",
      "Requirement already satisfied: et-xmlfile in c:\\users\\annam\\appdata\\local\\programs\\python\\python311\\lib\\site-packages (from openpyxl) (1.1.0)\n",
      "Note: you may need to restart the kernel to use updated packages.\n"
     ]
    },
    {
     "name": "stderr",
     "output_type": "stream",
     "text": [
      "\n",
      "[notice] A new release of pip is available: 23.3.2 -> 24.0\n",
      "[notice] To update, run: python.exe -m pip install --upgrade pip\n"
     ]
    }
   ],
   "source": [
    "%pip install lang2vec\n",
    "%pip install openpyxl"
   ]
  },
  {
   "cell_type": "code",
   "execution_count": 1,
   "metadata": {},
   "outputs": [],
   "source": [
    "import lang2vec.lang2vec as l2v\n",
    "from scipy.spatial import distance\n",
    "import matplotlib.pyplot as plt\n",
    "import numpy as np\n",
    "import pandas as pd"
   ]
  },
  {
   "cell_type": "markdown",
   "metadata": {},
   "source": [
    "Lang2vec uses ISO 639-3 codes to represent the langugaes. \n",
    "Here are the relevant codes for our langugaes gotten from https://en.wikipedia.org/wiki/List_of_ISO_639_language_codes  \n",
    "- English: eng\n",
    "- Danish: dan\n",
    "- German: deu\n",
    "- Polish: pol\n",
    "- Slovak: slk\n",
    "- Chinese: zho\n",
    "- Russian: rus\n",
    "- Tagalog: tgl\n",
    "- Swedish: swe\n",
    "- Serbian: srp\n",
    "- Croatian: hrv\n",
    "- Portuguese: por"
   ]
  },
  {
   "cell_type": "markdown",
   "metadata": {},
   "source": [
    "### Getting the vector representations of the languages "
   ]
  },
  {
   "cell_type": "code",
   "execution_count": 2,
   "metadata": {},
   "outputs": [],
   "source": [
    "category = \"syntax_knn\"\n",
    "# cateogry = l2v.fs_union([\"syntax_wals\", \"syntax_sswl\"])\n",
    "# Makes a lsit of all the vectors for the languages \n",
    "features = l2v.get_features([\"eng\",\"zho\", \"deu\", \"pol\", \"slk\", \"dan\", \"rus\", \"tgl\", \"swe\",\"srp\", \"hrv\", \"por\"], category)\n",
    "# index at the language code to get the vector for that language \n",
    "# features[\"srp\"]"
   ]
  },
  {
   "cell_type": "markdown",
   "metadata": {},
   "source": [
    "### Cosine distance between all languages "
   ]
  },
  {
   "cell_type": "code",
   "execution_count": 3,
   "metadata": {},
   "outputs": [
    {
     "name": "stdout",
     "output_type": "stream",
     "text": [
      "Distance between eng and zho: 0.2892275292349139\n",
      "Distance between eng and deu: 0.09745802098497958\n",
      "Distance between eng and slk: 0.17840613445904518\n",
      "Distance between eng and dan: 0.11992176734660276\n",
      "Distance between eng and tgl: 0.3911844526817908\n",
      "Distance between eng and srp: 0.2040809427572\n",
      "Distance between eng and hrv: 0.16819960814394186\n",
      "Distance between eng and swe: 0.06658369264033626\n",
      "Distance between eng and por: 0.15760299761174978\n",
      "Distance between eng and rus: 0.18824593690905445\n",
      "Distance between zho and eng: 0.2892275292349139\n",
      "Distance between zho and deu: 0.36509782234284427\n",
      "Distance between zho and slk: 0.3247889635715203\n",
      "Distance between zho and dan: 0.32461836649402953\n",
      "Distance between zho and tgl: 0.4811254783372292\n",
      "Distance between zho and srp: 0.349796779735538\n",
      "Distance between zho and hrv: 0.3164009272185251\n",
      "Distance between zho and swe: 0.298642149820723\n",
      "Distance between zho and por: 0.33333333333333337\n",
      "Distance between zho and rus: 0.3081673044496389\n",
      "Distance between deu and eng: 0.09745802098497958\n",
      "Distance between deu and zho: 0.36509782234284427\n",
      "Distance between deu and slk: 0.1664303605983033\n",
      "Distance between deu and dan: 0.0846742124087071\n",
      "Distance between deu and tgl: 0.4352550335979859\n",
      "Distance between deu and srp: 0.1902466360097803\n",
      "Distance between deu and hrv: 0.15607506120177872\n",
      "Distance between deu and swe: 0.10941274720847183\n",
      "Distance between deu and por: 0.19416262066591772\n",
      "Distance between deu and rus: 0.1764135906637294\n",
      "Distance between slk and eng: 0.17840613445904518\n",
      "Distance between slk and zho: 0.3247889635715203\n",
      "Distance between slk and deu: 0.1664303605983033\n",
      "Distance between slk and dan: 0.13861919370516207\n",
      "Distance between slk and tgl: 0.37344849947455616\n",
      "Distance between slk and srp: 0.04878048780487798\n",
      "Distance between slk and hrv: 0.03696364326665014\n",
      "Distance between slk and swe: 0.13861919370516207\n",
      "Distance between slk and por: 0.09971861809536031\n",
      "Distance between slk and rus: 0.0842708838474282\n",
      "Distance between dan and eng: 0.11992176734660276\n",
      "Distance between dan and zho: 0.32461836649402953\n",
      "Distance between dan and deu: 0.0846742124087071\n",
      "Distance between dan and slk: 0.13861919370516207\n",
      "Distance between dan and tgl: 0.4493112082460653\n",
      "Distance between dan and srp: 0.16395392330206904\n",
      "Distance between dan and hrv: 0.12791840072761895\n",
      "Distance between dan and swe: 0.05263157894736836\n",
      "Distance between dan and por: 0.19473728312749683\n",
      "Distance between dan and rus: 0.1489355036530099\n",
      "Distance between tgl and eng: 0.3911844526817908\n",
      "Distance between tgl and zho: 0.4811254783372292\n",
      "Distance between tgl and deu: 0.4352550335979859\n",
      "Distance between tgl and slk: 0.37344849947455616\n",
      "Distance between tgl and dan: 0.4493112082460653\n",
      "Distance between tgl and srp: 0.37344849947455616\n",
      "Distance between tgl and hrv: 0.3900624544071667\n",
      "Distance between tgl and swe: 0.3992485908138894\n",
      "Distance between tgl and por: 0.3081673044496389\n",
      "Distance between tgl and rus: 0.30952380952380953\n",
      "Distance between srp and eng: 0.2040809427572\n",
      "Distance between srp and zho: 0.349796779735538\n",
      "Distance between srp and deu: 0.1902466360097803\n",
      "Distance between srp and slk: 0.04878048780487798\n",
      "Distance between srp and dan: 0.16395392330206904\n",
      "Distance between srp and tgl: 0.37344849947455616\n",
      "Distance between srp and hrv: 0.061656883182889866\n",
      "Distance between srp and swe: 0.16395392330206904\n",
      "Distance between srp and por: 0.09971861809536031\n",
      "Distance between srp and rus: 0.0842708838474282\n",
      "Distance between hrv and eng: 0.16819960814394186\n",
      "Distance between hrv and zho: 0.3164009272185251\n",
      "Distance between hrv and deu: 0.15607506120177872\n",
      "Distance between hrv and slk: 0.03696364326665014\n",
      "Distance between hrv and dan: 0.12791840072761895\n",
      "Distance between hrv and tgl: 0.3900624544071667\n",
      "Distance between hrv and srp: 0.061656883182889866\n",
      "Distance between hrv and swe: 0.12791840072761895\n",
      "Distance between hrv and por: 0.11385305380179167\n",
      "Distance between hrv and rus: 0.09729243252260678\n",
      "Distance between swe and eng: 0.06658369264033626\n",
      "Distance between swe and zho: 0.298642149820723\n",
      "Distance between swe and deu: 0.10941274720847183\n",
      "Distance between swe and slk: 0.13861919370516207\n",
      "Distance between swe and dan: 0.05263157894736836\n",
      "Distance between swe and tgl: 0.3992485908138894\n",
      "Distance between swe and srp: 0.16395392330206904\n",
      "Distance between swe and hrv: 0.12791840072761895\n",
      "Distance between swe and por: 0.14278484978088368\n",
      "Distance between swe and rus: 0.1489355036530099\n",
      "Distance between por and eng: 0.15760299761174978\n",
      "Distance between por and zho: 0.33333333333333337\n",
      "Distance between por and deu: 0.19416262066591772\n",
      "Distance between por and slk: 0.09971861809536031\n",
      "Distance between por and dan: 0.19473728312749683\n",
      "Distance between por and tgl: 0.3081673044496389\n",
      "Distance between por and srp: 0.09971861809536031\n",
      "Distance between por and hrv: 0.11385305380179167\n",
      "Distance between por and swe: 0.14278484978088368\n",
      "Distance between por and rus: 0.13520913056204853\n",
      "Distance between rus and eng: 0.18824593690905445\n",
      "Distance between rus and zho: 0.3081673044496389\n",
      "Distance between rus and deu: 0.1764135906637294\n",
      "Distance between rus and slk: 0.0842708838474282\n",
      "Distance between rus and dan: 0.1489355036530099\n",
      "Distance between rus and tgl: 0.30952380952380953\n",
      "Distance between rus and srp: 0.0842708838474282\n",
      "Distance between rus and hrv: 0.09729243252260678\n",
      "Distance between rus and swe: 0.1489355036530099\n",
      "Distance between rus and por: 0.13520913056204853\n"
     ]
    }
   ],
   "source": [
    "languages = [\"eng\", \"zho\", \"deu\", \"slk\", \"dan\", \"tgl\", \"srp\", \"hrv\", \"swe\", \"por\", \"rus\"]\n",
    "for lang1 in languages: \n",
    "    for lang2 in languages: \n",
    "        if lang1 == lang2:\n",
    "            continue\n",
    "        else: \n",
    "            vec1 = features[lang1]\n",
    "            vec2 = features[lang2]\n",
    "            cos_dist = distance.cosine(vec1, vec2)\n",
    "            print(f\"Distance between {lang1} and {lang2}: {cos_dist}\")"
   ]
  },
  {
   "cell_type": "code",
   "execution_count": 4,
   "metadata": {},
   "outputs": [],
   "source": [
    "languages = [\"zho\", \"hrv\", \"dan\", \"eng\", \"deu\", \"por\", \"rus\", \"srp\", \"slk\", \"swe\"]\n",
    "# chinese croatian danish english german portugese russian serbian slovakian swedish\n",
    "\n",
    "def get_lang_sims(input_lang):\n",
    "    sims_list = []\n",
    "    for lang in languages: \n",
    "        if input_lang == lang:\n",
    "            continue\n",
    "        else: \n",
    "            vec1 = features[input_lang]\n",
    "            vec2 = features[lang]\n",
    "            cos_dist = distance.cosine(vec1, vec2)\n",
    "            sims_list.append(cos_dist)\n",
    "    return sims_list\n",
    "\n",
    "eng_list = get_lang_sims(\"eng\")\n",
    "hrv_list = get_lang_sims(\"hrv\")"
   ]
  },
  {
   "cell_type": "markdown",
   "metadata": {},
   "source": [
    "### Features \n",
    "\n"
   ]
  },
  {
   "cell_type": "code",
   "execution_count": 5,
   "metadata": {},
   "outputs": [
    {
     "data": {
      "text/plain": [
       "['syntax_wals',\n",
       " 'phonology_wals',\n",
       " 'syntax_sswl',\n",
       " 'syntax_ethnologue',\n",
       " 'phonology_ethnologue',\n",
       " 'inventory_ethnologue',\n",
       " 'inventory_phoible_aa',\n",
       " 'inventory_phoible_gm',\n",
       " 'inventory_phoible_saphon',\n",
       " 'inventory_phoible_spa',\n",
       " 'inventory_phoible_ph',\n",
       " 'inventory_phoible_ra',\n",
       " 'inventory_phoible_upsid',\n",
       " 'syntax_knn',\n",
       " 'phonology_knn',\n",
       " 'inventory_knn',\n",
       " 'syntax_average',\n",
       " 'phonology_average',\n",
       " 'inventory_average',\n",
       " 'fam',\n",
       " 'id',\n",
       " 'geo',\n",
       " 'learned']"
      ]
     },
     "execution_count": 5,
     "metadata": {},
     "output_type": "execute_result"
    }
   ],
   "source": [
    "l2v.FEATURE_SETS"
   ]
  },
  {
   "cell_type": "markdown",
   "metadata": {},
   "source": [
    "More info here: https://github.com/antonisa/lang2vec\n",
    "\n",
    "Meanings: \n",
    "- syntax: the arrangement of words and phrases\n",
    "- phonology: the study of the patterns of sounds in a language and across languages\n",
    "- geo: distance from fixed points on earth's surface \n",
    "- id: one-hot identity vector \n",
    "- fam: membership in language families and subfamil_ies\n",
    "\n",
    "Additonal suffixes: \n",
    "- _avergage: averages of sets \n",
    "- _knn: KNN predictions of feature values \n",
    "- _learned: 512-dimensional vectors learned by a neural network over data from 1017 languages, trained for typological prediction \n",
    "- _wals: feature derived from the World Atlas of Language Structures \n",
    "- _sswl : Features derived from Syntactic Structures of the World's Languages\n",
    "- _ethnologue : Features derived from (shallowly) parsing the prose typological descriptions in Ethnologue \n",
    "- _phoible_aa : AA = Alphabets of Africa. Features derived from PHOIBLE's normalization of Systèmes alphabétiques des langues africaines \n",
    "\n",
    "Union: \n",
    "- You can union two feature sets using l2v.fs_union([\"feature1\", \"feature2\"])\n",
    "- Combines vectors by taking element-wise max among corresponding dimensions of the vectors \n",
    "- Useful when you want to capture the maximum information from each language embedding without losing any data\n",
    "- Suitable when you want to create a joint representation that incorporates the most significant features from each language\n",
    "\n",
    "Concatenation\n",
    "- You can concatenate two feature sets using l2v.fs_concatenation([\"feature1\", \"feature2\"])\n",
    "- Appends the vectors together along a specific axis to create a longer, combined vector\n",
    "- Useful when you want to preserve the individual characteristics of each language embedding while creating a larger, joint embedding space\n",
    "- Suitable when you want to maintain the distinctiveness of each language while still creating a joint representation\n",
    "\n",
    "Union vs concatenation: \n",
    "-  Union function focuses on preserving the maximum information from each language embedding, while the concatenation function retains the individual characteristics of each embedding by combining them along a specified axis\n",
    "Which is best for us? \n",
    "- Depends on whether we want to prioritize capturing the maximum information from each language embedding (union) or preserving the individual characteristics of each embedding (concatenation)"
   ]
  },
  {
   "cell_type": "markdown",
   "metadata": {},
   "source": [
    "### Displaying results and land sim "
   ]
  },
  {
   "cell_type": "code",
   "execution_count": 6,
   "metadata": {},
   "outputs": [
    {
     "name": "stdout",
     "output_type": "stream",
     "text": [
      "  UNER Datasets   Language  English score  Slovak score  Danish score   \n",
      "0        zh_pud    Chinese       0.711516      0.568163      0.510234  \\\n",
      "1        hr_set   Croatian       0.764787      0.739639      0.712329   \n",
      "2        da_ddt     Danish       0.752566      0.674234      0.821267   \n",
      "3        en_ewt    English       0.800000      0.514056      0.538851   \n",
      "4        de_pud     German       0.781015      0.662759      0.616639   \n",
      "5        pt_pud  Portugese       0.804114      0.682655      0.622222   \n",
      "6        ru_pud    Russian       0.666042      0.614403      0.570683   \n",
      "7        sr_set    Serbian       0.772130      0.759107      0.709607   \n",
      "8        sk_snk  Slovakian       0.672593      0.765351      0.602685   \n",
      "9        sv_pud    Swedish       0.820611      0.741859      0.730539   \n",
      "\n",
      "   Croatian score  Serbian score  \n",
      "0        0.598666       0.550689  \n",
      "1        0.904311       0.877365  \n",
      "2        0.794183       0.711253  \n",
      "3        0.623330       0.481380  \n",
      "4        0.747359       0.676253  \n",
      "5        0.817052       0.701840  \n",
      "6        0.705069       0.667883  \n",
      "7        0.924439       0.920188  \n",
      "8        0.746048       0.674406  \n",
      "9        0.824940       0.747664  \n",
      "[0.711516, 0.764787, 0.752566, 0.781015, 0.804114, 0.666042, 0.77213, 0.672593, 0.820611]\n",
      "[0.598666, 0.794183, 0.62333, 0.747359, 0.817052, 0.705069, 0.924439, 0.746048, 0.82494]\n"
     ]
    }
   ],
   "source": [
    "# getting testing results data\n",
    "df = pd.read_excel('NEW_testing_results.xlsx')\n",
    "\n",
    "print(df)\n",
    "eng_scores = list(df[\"English score\"])\n",
    "del eng_scores[3]\n",
    "print(eng_scores)\n",
    "\n",
    "hrv_scores = list(df[\"Croatian score\"])\n",
    "del hrv_scores[1]\n",
    "print(hrv_scores)"
   ]
  },
  {
   "cell_type": "markdown",
   "metadata": {},
   "source": [
    "### Testing for all languages"
   ]
  },
  {
   "cell_type": "code",
   "execution_count": 23,
   "metadata": {},
   "outputs": [],
   "source": [
    "language_codes = {\n",
    "    \"English\": \"eng\",\n",
    "    \"Danish\": \"dan\",\n",
    "    \"German\": \"deu\",\n",
    "    \"Slovakian\": \"slk\",\n",
    "    \"Chinese\": \"zho\",\n",
    "    \"Russian\": \"rus\",\n",
    "    \"Swedish\": \"swe\",\n",
    "    \"Serbian\": \"srp\",\n",
    "    \"Croatian\": \"hrv\",\n",
    "    \"Portugese\": \"por\"\n",
    "}\n",
    "\n",
    "def get_similarities_all_langs(language):\n",
    "    sims_list = {}\n",
    "    input_lang = language_codes[language]\n",
    "\n",
    "    for lang in language_codes.values(): \n",
    "        vec1 = features[input_lang]\n",
    "        vec2 = features[lang]\n",
    "        \n",
    "        cos_dist = distance.cosine(vec1, vec2)\n",
    "        sims_list[lang] = cos_dist\n",
    "    return sims_list\n",
    "\n",
    "\n",
    "def get_scores(lang):\n",
    "    lang_scores = {}\n",
    "    for index, row in df.iterrows():\n",
    "        language = row['Language']\n",
    "        language_code = language_codes[language]\n",
    "        score = row[f'{lang} score']\n",
    "        lang_scores[language_code] = score\n",
    "\n",
    "\n",
    "    return lang_scores\n"
   ]
  },
  {
   "cell_type": "code",
   "execution_count": 24,
   "metadata": {},
   "outputs": [],
   "source": [
    "eng_sim = get_similarities_all_langs(\"English\")\n",
    "dan_sim = get_similarities_all_langs(\"Danish\")\n",
    "slk_sim = get_similarities_all_langs(\"Slovakian\")\n",
    "srp_sim = get_similarities_all_langs(\"Serbian\")\n",
    "hrv_sim = get_similarities_all_langs(\"Croatian\")"
   ]
  },
  {
   "cell_type": "code",
   "execution_count": 25,
   "metadata": {},
   "outputs": [],
   "source": [
    "eng_score = get_scores(\"English\")\n",
    "dan_score = get_scores(\"Danish\")\n",
    "slk_score = get_scores(\"Slovak\")\n",
    "srp_score = get_scores(\"Serbian\")\n",
    "hrv_score = get_scores(\"Croatian\")"
   ]
  },
  {
   "cell_type": "code",
   "execution_count": 26,
   "metadata": {},
   "outputs": [
    {
     "data": {
      "text/plain": [
       "{'zho': 0.711516,\n",
       " 'hrv': 0.764787,\n",
       " 'dan': 0.752566,\n",
       " 'eng': 0.8,\n",
       " 'deu': 0.781015,\n",
       " 'por': 0.804114,\n",
       " 'rus': 0.666042,\n",
       " 'srp': 0.77213,\n",
       " 'slk': 0.672593,\n",
       " 'swe': 0.820611}"
      ]
     },
     "execution_count": 26,
     "metadata": {},
     "output_type": "execute_result"
    }
   ],
   "source": [
    "eng_score"
   ]
  },
  {
   "cell_type": "code",
   "execution_count": 27,
   "metadata": {},
   "outputs": [
    {
     "data": {
      "text/plain": [
       "{'eng': 0,\n",
       " 'dan': 0.11992176734660276,\n",
       " 'deu': 0.09745802098497958,\n",
       " 'slk': 0.17840613445904518,\n",
       " 'zho': 0.2892275292349139,\n",
       " 'rus': 0.18824593690905445,\n",
       " 'swe': 0.06658369264033626,\n",
       " 'srp': 0.2040809427572,\n",
       " 'hrv': 0.16819960814394186,\n",
       " 'por': 0.15760299761174978}"
      ]
     },
     "execution_count": 27,
     "metadata": {},
     "output_type": "execute_result"
    }
   ],
   "source": [
    "eng_sim"
   ]
  },
  {
   "cell_type": "code",
   "execution_count": 48,
   "metadata": {},
   "outputs": [],
   "source": [
    "# Get the languages from the df and assign them colours for the plot\n",
    "languages = list(df[\"Language\"])\n",
    "colors = ['red', 'green', 'blue', 'yellow', 'purple', \"black\", \"cyan\",  \"magenta\", \"peru\"]\n",
    "\n",
    "# making a dictionary with languages and colours\n",
    "lang_colors = dict(zip(languages, colors))"
   ]
  },
  {
   "cell_type": "code",
   "execution_count": 55,
   "metadata": {},
   "outputs": [
    {
     "data": {
      "image/png": "[encoded data removed]",
      "text/plain": [
       "<Figure size 640x480 with 1 Axes>"
      ]
     },
     "metadata": {},
     "output_type": "display_data"
    },
    {
     "name": "stdout",
     "output_type": "stream",
     "text": [
      "Pearson's correlation coefficient: -0.7144467384261164\n"
     ]
    }
   ],
   "source": [
    "\n",
    "# This is the stuff you need to change\n",
    "model_language = \"Danish\"\n",
    "similarity_scores = dan_sim\n",
    "span_scores = dan_score\n",
    "\n",
    "# Initialize lists to store x and y values\n",
    "x_values = []\n",
    "y_values = []\n",
    "\n",
    "# Iterate over keys in the dictionaries\n",
    "for lang_code in span_scores.keys():\n",
    "    # Check if the key exists in both dictionaries\n",
    "    if lang_code in similarity_scores:\n",
    "        # Append x and y values\n",
    "        x_values.append(similarity_scores[lang_code])\n",
    "        y_values.append(span_scores[lang_code])\n",
    "\n",
    "for lang, distance, score in zip(languages, x_values, y_values):\n",
    "    plt.scatter(distance, score, c=lang_colors.get(lang, 'limegreen'), label=lang)\n",
    "\n",
    "#plot the best fit line\n",
    "x = np.array(x_values)\n",
    "y = np.array(y_values)\n",
    "slope, intercept = np.polyfit(x, y, 1)\n",
    "\n",
    "x_fit = np.linspace(min(x), max(x), 100)\n",
    "y_fit = slope * x_fit + intercept\n",
    "\n",
    "plt.plot(x_fit, y_fit, color='gray',  linewidth = 0.75, label='Line of Best Fit')\n",
    "\n",
    "\n",
    "# Create legend under the plot and adjust its width\n",
    "plt.legend(loc='upper center', bbox_to_anchor=(0.5, -0.15), ncol=5, title = \"Languages and their corresponding colours\")\n",
    "    \n",
    "# Add labels and title\n",
    "plt.xlabel('Similarity scores')\n",
    "plt.ylabel('Span-f1 scores')\n",
    "plt.title(f'{model_language} model')\n",
    "plt.savefig(f'graphs/NEW_{model_language}_graph_legend.png', bbox_inches='tight')\n",
    "\n",
    "plt.show()\n",
    "\n",
    "#Get corrleation coef\n",
    "pearson_corr = np.corrcoef(x_values, y_values)[0, 1]\n",
    "print(\"Pearson's correlation coefficient:\", pearson_corr)\n"
   ]
  },
  {
   "cell_type": "markdown",
   "metadata": {},
   "source": [
    "### OLD STUFF BELOW (ignore)"
   ]
  },
  {
   "cell_type": "code",
   "execution_count": 5,
   "metadata": {},
   "outputs": [],
   "source": [
    "# getting each language vector seperately \n",
    "eng = features[\"eng\"]\n",
    "zho = features[\"zho\"]\n",
    "deu = features[\"deu\"]\n",
    "pol = features[\"pol\"]\n",
    "slk = features[\"slk\"]\n",
    "dan = features[\"dan\"]\n",
    "rus = features[\"rus\"]\n",
    "tgl = features[\"tgl\"]"
   ]
  },
  {
   "cell_type": "markdown",
   "metadata": {},
   "source": [
    "Cosine distance to get the language similarity - cosine distance is inversely proportional to the language similarity i.e. smaller cosine distance = higher language similarity "
   ]
  },
  {
   "cell_type": "code",
   "execution_count": 7,
   "metadata": {},
   "outputs": [
    {
     "name": "stdout",
     "output_type": "stream",
     "text": [
      "Distance from polish to slovak 0.17840613445904518\n",
      "Distance from english to german 0.09745802098497958\n",
      "Distance from english to danish 0.11992176734660276\n",
      "Distance from english to chinese 0.2892275292349139\n",
      "Distance from english to russian 0.18824593690905445\n",
      "Distance from english to Tagalog 0.3911844526817908\n"
     ]
    }
   ],
   "source": [
    "# cosine distance for english: \n",
    "eng_slk = distance.cosine(eng, slk)\n",
    "eng_deu = distance.cosine(eng, deu)\n",
    "eng_zho = distance.cosine(eng, zho)\n",
    "eng_dan = distance.cosine(eng, dan)\n",
    "eng_rus = distance.cosine(eng, rus)\n",
    "eng_tgl = distance.cosine(eng, tgl)\n",
    "\n",
    "print(\"Distance from polish to slovak\", eng_slk)\n",
    "print(\"Distance from english to german\", eng_deu)\n",
    "print(\"Distance from english to danish\", eng_dan)\n",
    "print(\"Distance from english to chinese\", eng_zho)\n",
    "print(\"Distance from english to russian\", eng_rus)\n",
    "print(\"Distance from english to tagalog\", eng_tgl)\n"
   ]
  },
  {
   "cell_type": "code",
   "execution_count": 8,
   "metadata": {},
   "outputs": [
    {
     "name": "stdout",
     "output_type": "stream",
     "text": [
      "Distance from polish to slovak 0.0842708838474282\n",
      "Distance from polish to german 0.19994463093047998\n",
      "Distance from polish to danish 0.17396681236909783\n",
      "Distance from polish to chinese 0.33287561500500895\n",
      "Distance from polish to russian 0.0714285714285714\n"
     ]
    }
   ],
   "source": [
    "# cosine distance for polish\n",
    "pol_slk = distance.cosine(pol, slk)\n",
    "pol_deu = distance.cosine(pol, deu)\n",
    "pol_zho = distance.cosine(pol, zho)\n",
    "pol_dan = distance.cosine(pol, dan)\n",
    "pol_rus = distance.cosine(pol, rus)\n",
    "pol_tgl = distance.cosine(pol, tgl)\n",
    "\n",
    "\n",
    "print(\"Distance from polish to slovak\", pol_slk)\n",
    "print(\"Distance from polish to german\", pol_deu)\n",
    "print(\"Distance from polish to danish\", pol_dan)\n",
    "print(\"Distance from polish to chinese\", pol_zho)\n",
    "print(\"Distance from polish to russian\", pol_rus)\n",
    "print(\"Distance from polish to tagalog\", pol_tgl)"
   ]
  },
  {
   "cell_type": "code",
   "execution_count": 9,
   "metadata": {},
   "outputs": [
    {
     "name": "stdout",
     "output_type": "stream",
     "text": [
      "Distance from tagalog to slovak 0.37344849947455616\n",
      "Distance from tagalog to german 0.4352550335979859\n",
      "Distance from tagalog to danish 0.4493112082460653\n",
      "Distance from tagalog to chinese 0.4811254783372292\n",
      "Distance from tagalog to russian 0.30952380952380953\n",
      "Distance from tagalog to english 0.3911844526817908\n",
      "Distance from tagalog to polish 0.33333333333333337\n"
     ]
    }
   ],
   "source": [
    "# cosine distance for polish\n",
    "tgl_slk = distance.cosine(tgl, slk)\n",
    "tgl_deu = distance.cosine(tgl, deu)\n",
    "tgl_zho = distance.cosine(tgl, zho)\n",
    "tgl_dan = distance.cosine(tgl, dan)\n",
    "tgl_rus = distance.cosine(tgl, rus)\n",
    "tgl_eng = distance.cosine(tgl, eng)\n",
    "tgl_pol = distance.cosine(tgl, pol)\n",
    "\n",
    "print(\"Distance from tagalog to slovak\", tgl_slk)\n",
    "print(\"Distance from tagalog to german\", tgl_deu)\n",
    "print(\"Distance from tagalog to danish\", tgl_dan)\n",
    "print(\"Distance from tagalog to chinese\", tgl_zho)\n",
    "print(\"Distance from tagalog to russian\", tgl_rus)\n",
    "print(\"Distance from tagalog to english\", tgl_eng)\n",
    "print(\"Distance from tagalog to polish\", tgl_pol)\n"
   ]
  },
  {
   "cell_type": "markdown",
   "metadata": {},
   "source": [
    "Exploring differnt vector types: lang2vec has vectors for differnet features of the languages, each representing them in differnet ways \n"
   ]
  },
  {
   "cell_type": "code",
   "execution_count": 51,
   "metadata": {},
   "outputs": [
    {
     "data": {
      "text/plain": [
       "['syntax_wals',\n",
       " 'phonology_wals',\n",
       " 'syntax_sswl',\n",
       " 'syntax_ethnologue',\n",
       " 'phonology_ethnologue',\n",
       " 'inventory_ethnologue',\n",
       " 'inventory_phoible_aa',\n",
       " 'inventory_phoible_gm',\n",
       " 'inventory_phoible_saphon',\n",
       " 'inventory_phoible_spa',\n",
       " 'inventory_phoible_ph',\n",
       " 'inventory_phoible_ra',\n",
       " 'inventory_phoible_upsid',\n",
       " 'syntax_knn',\n",
       " 'phonology_knn',\n",
       " 'inventory_knn',\n",
       " 'syntax_average',\n",
       " 'phonology_average',\n",
       " 'inventory_average',\n",
       " 'fam',\n",
       " 'id',\n",
       " 'geo',\n",
       " 'learned']"
      ]
     },
     "execution_count": 51,
     "metadata": {},
     "output_type": "execute_result"
    }
   ],
   "source": [
    "l2v.FEATURE_SETS"
   ]
  }
 ],
 "metadata": {
  "kernelspec": {
   "display_name": "Python 3",
   "language": "python",
   "name": "python3"
  },
  "language_info": {
   "codemirror_mode": {
    "name": "ipython",
    "version": 3
   },
   "file_extension": ".py",
   "mimetype": "text/x-python",
   "name": "python",
   "nbconvert_exporter": "python",
   "pygments_lexer": "ipython3",
   "version": "3.11.3"
  }
 },
 "nbformat": 4,
 "nbformat_minor": 2
}
