{
 "cells": [
  {
   "cell_type": "code",
   "execution_count": 86,
   "metadata": {},
   "outputs": [],
   "source": [
    "import torch\n",
    "\n",
    "text = [\n",
    "    [101, 2023, 2003, 1037, 2518, 1997, 1996, 7922, 1012, 102],\n",
    "    [101, 1045, 2031, 1037, 2299, 1998, 2738, 1012, 102],\n",
    "    [101, 1045, 2515, 1037, 10149, 1012, 102]\n",
    "]\n",
    "\n",
    "labels = [\n",
    "    [0, 1, 1, 0, 1, 0, 0, 0, 0, 0],\n",
    "    [0, 1, 0, 1, 1, 0, 0, 1, 0],\n",
    "    [1, 1, 0, 0, 0, 1, 0]\n",
    "]"
   ]
  },
  {
   "cell_type": "code",
   "execution_count": 87,
   "metadata": {},
   "outputs": [],
   "source": [
    "padding_id = 0\n",
    "\n",
    "batch_size = 3\n",
    "num_batches = int(len(text)/batch_size)\n",
    "\n",
    "DEVICE = torch.device('cuda' if torch.cuda.is_available() else 'cpu')"
   ]
  },
  {
   "cell_type": "code",
   "execution_count": 88,
   "metadata": {},
   "outputs": [],
   "source": [
    "text_batches = []\n",
    "label_batches = []\n",
    "\n",
    "for batch_idx in range(num_batches):\n",
    "        beg_idx = batch_idx * batch_size\n",
    "        end_idx = (batch_idx+1) * batch_size\n",
    "        max_len = max([len(sent) for sent in text[beg_idx:end_idx]])\n",
    "\n",
    "        new_batch_text = torch.full((batch_size, max_len), padding_id, dtype=torch.long, device=DEVICE)\n",
    "        new_batch_labels = torch.full((batch_size, max_len), padding_id, dtype=torch.long, device=DEVICE)\n",
    "\n",
    "\n",
    "        for sent_idx in range(batch_size):\n",
    "            for idx, id in enumerate(text[beg_idx + sent_idx]):\n",
    "                new_batch_text[sent_idx][idx] = id\n",
    "            \n",
    "            for idx, id in enumerate(labels[beg_idx + sent_idx]):\n",
    "                new_batch_labels[sent_idx][idx] = id\n",
    "\n",
    "        text_batches.append(new_batch_text)\n",
    "        label_batches.append(new_batch_labels)\n"
   ]
  },
  {
   "cell_type": "code",
   "execution_count": 89,
   "metadata": {},
   "outputs": [
    {
     "name": "stdout",
     "output_type": "stream",
     "text": [
      "[tensor([[  101,  2023,  2003,  1037,  2518,  1997,  1996,  7922,  1012,   102],\n",
      "        [  101,  1045,  2031,  1037,  2299,  1998,  2738,  1012,   102,     0],\n",
      "        [  101,  1045,  2515,  1037, 10149,  1012,   102,     0,     0,     0]])]\n",
      "[tensor([[0, 1, 1, 0, 1, 0, 0, 0, 0, 0],\n",
      "        [0, 1, 0, 1, 1, 0, 0, 1, 0, 0],\n",
      "        [1, 1, 0, 0, 0, 1, 0, 0, 0, 0]])]\n"
     ]
    }
   ],
   "source": [
    "print(text_batches)\n",
    "print(label_batches)"
   ]
  }
 ],
 "metadata": {
  "kernelspec": {
   "display_name": "Python 3",
   "language": "python",
   "name": "python3"
  },
  "language_info": {
   "codemirror_mode": {
    "name": "ipython",
    "version": 3
   },
   "file_extension": ".py",
   "mimetype": "text/x-python",
   "name": "python",
   "nbconvert_exporter": "python",
   "pygments_lexer": "ipython3",
   "version": "3.11.1"
  }
 },
 "nbformat": 4,
 "nbformat_minor": 2
}
